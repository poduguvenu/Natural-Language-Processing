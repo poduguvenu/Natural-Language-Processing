{
  "nbformat": 4,
  "nbformat_minor": 0,
  "metadata": {
    "kernelspec": {
      "display_name": "Python 3",
      "language": "python",
      "name": "python3"
    },
    "language_info": {
      "codemirror_mode": {
        "name": "ipython",
        "version": 3
      },
      "file_extension": ".py",
      "mimetype": "text/x-python",
      "name": "python",
      "nbconvert_exporter": "python",
      "pygments_lexer": "ipython3",
      "version": "3.7.6"
    },
    "colab": {
      "name": "fake-news-classifier-using-tfidf-vectorizer.ipynb",
      "provenance": []
    }
  },
  "cells": [
    {
      "cell_type": "markdown",
      "metadata": {
        "id": "coxu3hDxlVct"
      },
      "source": [
        "# Fake News Classifier using TF-IDF Vectorizer"
      ]
    },
    {
      "cell_type": "markdown",
      "metadata": {
        "id": "TvqO3mDUlonN"
      },
      "source": [
        "> ## Import Required Libraries"
      ]
    },
    {
      "cell_type": "code",
      "metadata": {
        "id": "cIOZ3_5cloP0"
      },
      "source": [
        "import pandas as pd\n",
        "from sklearn.feature_extraction.text import TfidfVectorizer, CountVectorizer, HashingVectorizer\n",
        "import nltk\n",
        "from nltk.stem.porter import PorterStemmer\n",
        "from nltk.corpus import stopwords\n",
        "import re\n",
        "from sklearn.model_selection import train_test_split\n",
        "import matplotlib.pyplot as plt\n",
        "from sklearn.naive_bayes import MultinomialNB\n",
        "from sklearn.metrics import plot_confusion_matrix, accuracy_score\n",
        "from sklearn.linear_model import PassiveAggressiveClassifier"
      ],
      "execution_count": 16,
      "outputs": []
    },
    {
      "cell_type": "markdown",
      "metadata": {
        "id": "9gH8Ne5NnxVp"
      },
      "source": [
        "> ## Import the Dataset\n",
        "The `Fake News` dataset has been downloaded from `Kaggle` datasets\n",
        "\n",
        "> Dataset Url: https://www.kaggle.com/c/fake-news/data#"
      ]
    },
    {
      "cell_type": "code",
      "metadata": {
        "colab": {
          "base_uri": "https://localhost:8080/",
          "height": 191
        },
        "id": "fXV5RfWkloIr",
        "outputId": "31bd29cd-3d43-4146-e5b5-d320e001db49"
      },
      "source": [
        "df = pd.read_csv('./train.csv', nrows=5000)\n",
        "df.head()"
      ],
      "execution_count": 44,
      "outputs": [
        {
          "output_type": "execute_result",
          "data": {
            "text/html": [
              "<div>\n",
              "<style scoped>\n",
              "    .dataframe tbody tr th:only-of-type {\n",
              "        vertical-align: middle;\n",
              "    }\n",
              "\n",
              "    .dataframe tbody tr th {\n",
              "        vertical-align: top;\n",
              "    }\n",
              "\n",
              "    .dataframe thead th {\n",
              "        text-align: right;\n",
              "    }\n",
              "</style>\n",
              "<table border=\"1\" class=\"dataframe\">\n",
              "  <thead>\n",
              "    <tr style=\"text-align: right;\">\n",
              "      <th></th>\n",
              "      <th>id</th>\n",
              "      <th>title</th>\n",
              "      <th>author</th>\n",
              "      <th>text</th>\n",
              "      <th>label</th>\n",
              "    </tr>\n",
              "  </thead>\n",
              "  <tbody>\n",
              "    <tr>\n",
              "      <th>0</th>\n",
              "      <td>0</td>\n",
              "      <td>House Dem Aide: We Didn’t Even See Comey’s Let...</td>\n",
              "      <td>Darrell Lucus</td>\n",
              "      <td>House Dem Aide: We Didn’t Even See Comey’s Let...</td>\n",
              "      <td>1</td>\n",
              "    </tr>\n",
              "    <tr>\n",
              "      <th>1</th>\n",
              "      <td>1</td>\n",
              "      <td>FLYNN: Hillary Clinton, Big Woman on Campus - ...</td>\n",
              "      <td>Daniel J. Flynn</td>\n",
              "      <td>Ever get the feeling your life circles the rou...</td>\n",
              "      <td>0</td>\n",
              "    </tr>\n",
              "    <tr>\n",
              "      <th>2</th>\n",
              "      <td>2</td>\n",
              "      <td>Why the Truth Might Get You Fired</td>\n",
              "      <td>Consortiumnews.com</td>\n",
              "      <td>Why the Truth Might Get You Fired October 29, ...</td>\n",
              "      <td>1</td>\n",
              "    </tr>\n",
              "    <tr>\n",
              "      <th>3</th>\n",
              "      <td>3</td>\n",
              "      <td>15 Civilians Killed In Single US Airstrike Hav...</td>\n",
              "      <td>Jessica Purkiss</td>\n",
              "      <td>Videos 15 Civilians Killed In Single US Airstr...</td>\n",
              "      <td>1</td>\n",
              "    </tr>\n",
              "    <tr>\n",
              "      <th>4</th>\n",
              "      <td>4</td>\n",
              "      <td>Iranian woman jailed for fictional unpublished...</td>\n",
              "      <td>Howard Portnoy</td>\n",
              "      <td>Print \\nAn Iranian woman has been sentenced to...</td>\n",
              "      <td>1</td>\n",
              "    </tr>\n",
              "  </tbody>\n",
              "</table>\n",
              "</div>"
            ],
            "text/plain": [
              "   id  ... label\n",
              "0   0  ...     1\n",
              "1   1  ...     0\n",
              "2   2  ...     1\n",
              "3   3  ...     1\n",
              "4   4  ...     1\n",
              "\n",
              "[5 rows x 5 columns]"
            ]
          },
          "metadata": {
            "tags": []
          },
          "execution_count": 44
        }
      ]
    },
    {
      "cell_type": "code",
      "metadata": {
        "colab": {
          "base_uri": "https://localhost:8080/"
        },
        "id": "KZ0x03Avo0Pb",
        "outputId": "6b63e5f4-adfc-4167-c5a6-edfebedf1bdf"
      },
      "source": [
        "df.shape"
      ],
      "execution_count": 45,
      "outputs": [
        {
          "output_type": "execute_result",
          "data": {
            "text/plain": [
              "(5000, 5)"
            ]
          },
          "metadata": {
            "tags": []
          },
          "execution_count": 45
        }
      ]
    },
    {
      "cell_type": "code",
      "metadata": {
        "colab": {
          "base_uri": "https://localhost:8080/"
        },
        "id": "Fjj64klMoaYQ",
        "outputId": "e144effa-a9a4-4da1-9c1e-4b852da8a7ad"
      },
      "source": [
        "df.dropna(inplace=True)\n",
        "df.shape"
      ],
      "execution_count": 46,
      "outputs": [
        {
          "output_type": "execute_result",
          "data": {
            "text/plain": [
              "(4380, 5)"
            ]
          },
          "metadata": {
            "tags": []
          },
          "execution_count": 46
        }
      ]
    },
    {
      "cell_type": "code",
      "metadata": {
        "colab": {
          "base_uri": "https://localhost:8080/",
          "height": 335
        },
        "id": "VKdxNyaao2ud",
        "outputId": "127e1fd1-b426-4d8e-b39b-1bf054c6fa00"
      },
      "source": [
        "messages = df.copy()\n",
        "messages.head(10)"
      ],
      "execution_count": 47,
      "outputs": [
        {
          "output_type": "execute_result",
          "data": {
            "text/html": [
              "<div>\n",
              "<style scoped>\n",
              "    .dataframe tbody tr th:only-of-type {\n",
              "        vertical-align: middle;\n",
              "    }\n",
              "\n",
              "    .dataframe tbody tr th {\n",
              "        vertical-align: top;\n",
              "    }\n",
              "\n",
              "    .dataframe thead th {\n",
              "        text-align: right;\n",
              "    }\n",
              "</style>\n",
              "<table border=\"1\" class=\"dataframe\">\n",
              "  <thead>\n",
              "    <tr style=\"text-align: right;\">\n",
              "      <th></th>\n",
              "      <th>id</th>\n",
              "      <th>title</th>\n",
              "      <th>author</th>\n",
              "      <th>text</th>\n",
              "      <th>label</th>\n",
              "    </tr>\n",
              "  </thead>\n",
              "  <tbody>\n",
              "    <tr>\n",
              "      <th>0</th>\n",
              "      <td>0</td>\n",
              "      <td>House Dem Aide: We Didn’t Even See Comey’s Let...</td>\n",
              "      <td>Darrell Lucus</td>\n",
              "      <td>House Dem Aide: We Didn’t Even See Comey’s Let...</td>\n",
              "      <td>1</td>\n",
              "    </tr>\n",
              "    <tr>\n",
              "      <th>1</th>\n",
              "      <td>1</td>\n",
              "      <td>FLYNN: Hillary Clinton, Big Woman on Campus - ...</td>\n",
              "      <td>Daniel J. Flynn</td>\n",
              "      <td>Ever get the feeling your life circles the rou...</td>\n",
              "      <td>0</td>\n",
              "    </tr>\n",
              "    <tr>\n",
              "      <th>2</th>\n",
              "      <td>2</td>\n",
              "      <td>Why the Truth Might Get You Fired</td>\n",
              "      <td>Consortiumnews.com</td>\n",
              "      <td>Why the Truth Might Get You Fired October 29, ...</td>\n",
              "      <td>1</td>\n",
              "    </tr>\n",
              "    <tr>\n",
              "      <th>3</th>\n",
              "      <td>3</td>\n",
              "      <td>15 Civilians Killed In Single US Airstrike Hav...</td>\n",
              "      <td>Jessica Purkiss</td>\n",
              "      <td>Videos 15 Civilians Killed In Single US Airstr...</td>\n",
              "      <td>1</td>\n",
              "    </tr>\n",
              "    <tr>\n",
              "      <th>4</th>\n",
              "      <td>4</td>\n",
              "      <td>Iranian woman jailed for fictional unpublished...</td>\n",
              "      <td>Howard Portnoy</td>\n",
              "      <td>Print \\nAn Iranian woman has been sentenced to...</td>\n",
              "      <td>1</td>\n",
              "    </tr>\n",
              "    <tr>\n",
              "      <th>5</th>\n",
              "      <td>5</td>\n",
              "      <td>Jackie Mason: Hollywood Would Love Trump if He...</td>\n",
              "      <td>Daniel Nussbaum</td>\n",
              "      <td>In these trying times, Jackie Mason is the Voi...</td>\n",
              "      <td>0</td>\n",
              "    </tr>\n",
              "    <tr>\n",
              "      <th>7</th>\n",
              "      <td>7</td>\n",
              "      <td>Benoît Hamon Wins French Socialist Party’s Pre...</td>\n",
              "      <td>Alissa J. Rubin</td>\n",
              "      <td>PARIS  —   France chose an idealistic, traditi...</td>\n",
              "      <td>0</td>\n",
              "    </tr>\n",
              "    <tr>\n",
              "      <th>9</th>\n",
              "      <td>9</td>\n",
              "      <td>A Back-Channel Plan for Ukraine and Russia, Co...</td>\n",
              "      <td>Megan Twohey and Scott Shane</td>\n",
              "      <td>A week before Michael T. Flynn resigned as nat...</td>\n",
              "      <td>0</td>\n",
              "    </tr>\n",
              "    <tr>\n",
              "      <th>10</th>\n",
              "      <td>10</td>\n",
              "      <td>Obama’s Organizing for Action Partners with So...</td>\n",
              "      <td>Aaron Klein</td>\n",
              "      <td>Organizing for Action, the activist group that...</td>\n",
              "      <td>0</td>\n",
              "    </tr>\n",
              "    <tr>\n",
              "      <th>11</th>\n",
              "      <td>11</td>\n",
              "      <td>BBC Comedy Sketch \"Real Housewives of ISIS\" Ca...</td>\n",
              "      <td>Chris Tomlinson</td>\n",
              "      <td>The BBC produced spoof on the “Real Housewives...</td>\n",
              "      <td>0</td>\n",
              "    </tr>\n",
              "  </tbody>\n",
              "</table>\n",
              "</div>"
            ],
            "text/plain": [
              "    id  ... label\n",
              "0    0  ...     1\n",
              "1    1  ...     0\n",
              "2    2  ...     1\n",
              "3    3  ...     1\n",
              "4    4  ...     1\n",
              "5    5  ...     0\n",
              "7    7  ...     0\n",
              "9    9  ...     0\n",
              "10  10  ...     0\n",
              "11  11  ...     0\n",
              "\n",
              "[10 rows x 5 columns]"
            ]
          },
          "metadata": {
            "tags": []
          },
          "execution_count": 47
        }
      ]
    },
    {
      "cell_type": "code",
      "metadata": {
        "colab": {
          "base_uri": "https://localhost:8080/",
          "height": 335
        },
        "id": "y_CHMXblpBNn",
        "outputId": "3bf01faa-8098-439a-8355-3d2824276525"
      },
      "source": [
        "messages.reset_index(inplace=True)\n",
        "messages.head(10)"
      ],
      "execution_count": 48,
      "outputs": [
        {
          "output_type": "execute_result",
          "data": {
            "text/html": [
              "<div>\n",
              "<style scoped>\n",
              "    .dataframe tbody tr th:only-of-type {\n",
              "        vertical-align: middle;\n",
              "    }\n",
              "\n",
              "    .dataframe tbody tr th {\n",
              "        vertical-align: top;\n",
              "    }\n",
              "\n",
              "    .dataframe thead th {\n",
              "        text-align: right;\n",
              "    }\n",
              "</style>\n",
              "<table border=\"1\" class=\"dataframe\">\n",
              "  <thead>\n",
              "    <tr style=\"text-align: right;\">\n",
              "      <th></th>\n",
              "      <th>index</th>\n",
              "      <th>id</th>\n",
              "      <th>title</th>\n",
              "      <th>author</th>\n",
              "      <th>text</th>\n",
              "      <th>label</th>\n",
              "    </tr>\n",
              "  </thead>\n",
              "  <tbody>\n",
              "    <tr>\n",
              "      <th>0</th>\n",
              "      <td>0</td>\n",
              "      <td>0</td>\n",
              "      <td>House Dem Aide: We Didn’t Even See Comey’s Let...</td>\n",
              "      <td>Darrell Lucus</td>\n",
              "      <td>House Dem Aide: We Didn’t Even See Comey’s Let...</td>\n",
              "      <td>1</td>\n",
              "    </tr>\n",
              "    <tr>\n",
              "      <th>1</th>\n",
              "      <td>1</td>\n",
              "      <td>1</td>\n",
              "      <td>FLYNN: Hillary Clinton, Big Woman on Campus - ...</td>\n",
              "      <td>Daniel J. Flynn</td>\n",
              "      <td>Ever get the feeling your life circles the rou...</td>\n",
              "      <td>0</td>\n",
              "    </tr>\n",
              "    <tr>\n",
              "      <th>2</th>\n",
              "      <td>2</td>\n",
              "      <td>2</td>\n",
              "      <td>Why the Truth Might Get You Fired</td>\n",
              "      <td>Consortiumnews.com</td>\n",
              "      <td>Why the Truth Might Get You Fired October 29, ...</td>\n",
              "      <td>1</td>\n",
              "    </tr>\n",
              "    <tr>\n",
              "      <th>3</th>\n",
              "      <td>3</td>\n",
              "      <td>3</td>\n",
              "      <td>15 Civilians Killed In Single US Airstrike Hav...</td>\n",
              "      <td>Jessica Purkiss</td>\n",
              "      <td>Videos 15 Civilians Killed In Single US Airstr...</td>\n",
              "      <td>1</td>\n",
              "    </tr>\n",
              "    <tr>\n",
              "      <th>4</th>\n",
              "      <td>4</td>\n",
              "      <td>4</td>\n",
              "      <td>Iranian woman jailed for fictional unpublished...</td>\n",
              "      <td>Howard Portnoy</td>\n",
              "      <td>Print \\nAn Iranian woman has been sentenced to...</td>\n",
              "      <td>1</td>\n",
              "    </tr>\n",
              "    <tr>\n",
              "      <th>5</th>\n",
              "      <td>5</td>\n",
              "      <td>5</td>\n",
              "      <td>Jackie Mason: Hollywood Would Love Trump if He...</td>\n",
              "      <td>Daniel Nussbaum</td>\n",
              "      <td>In these trying times, Jackie Mason is the Voi...</td>\n",
              "      <td>0</td>\n",
              "    </tr>\n",
              "    <tr>\n",
              "      <th>6</th>\n",
              "      <td>7</td>\n",
              "      <td>7</td>\n",
              "      <td>Benoît Hamon Wins French Socialist Party’s Pre...</td>\n",
              "      <td>Alissa J. Rubin</td>\n",
              "      <td>PARIS  —   France chose an idealistic, traditi...</td>\n",
              "      <td>0</td>\n",
              "    </tr>\n",
              "    <tr>\n",
              "      <th>7</th>\n",
              "      <td>9</td>\n",
              "      <td>9</td>\n",
              "      <td>A Back-Channel Plan for Ukraine and Russia, Co...</td>\n",
              "      <td>Megan Twohey and Scott Shane</td>\n",
              "      <td>A week before Michael T. Flynn resigned as nat...</td>\n",
              "      <td>0</td>\n",
              "    </tr>\n",
              "    <tr>\n",
              "      <th>8</th>\n",
              "      <td>10</td>\n",
              "      <td>10</td>\n",
              "      <td>Obama’s Organizing for Action Partners with So...</td>\n",
              "      <td>Aaron Klein</td>\n",
              "      <td>Organizing for Action, the activist group that...</td>\n",
              "      <td>0</td>\n",
              "    </tr>\n",
              "    <tr>\n",
              "      <th>9</th>\n",
              "      <td>11</td>\n",
              "      <td>11</td>\n",
              "      <td>BBC Comedy Sketch \"Real Housewives of ISIS\" Ca...</td>\n",
              "      <td>Chris Tomlinson</td>\n",
              "      <td>The BBC produced spoof on the “Real Housewives...</td>\n",
              "      <td>0</td>\n",
              "    </tr>\n",
              "  </tbody>\n",
              "</table>\n",
              "</div>"
            ],
            "text/plain": [
              "   index  id  ...                                               text label\n",
              "0      0   0  ...  House Dem Aide: We Didn’t Even See Comey’s Let...     1\n",
              "1      1   1  ...  Ever get the feeling your life circles the rou...     0\n",
              "2      2   2  ...  Why the Truth Might Get You Fired October 29, ...     1\n",
              "3      3   3  ...  Videos 15 Civilians Killed In Single US Airstr...     1\n",
              "4      4   4  ...  Print \\nAn Iranian woman has been sentenced to...     1\n",
              "5      5   5  ...  In these trying times, Jackie Mason is the Voi...     0\n",
              "6      7   7  ...  PARIS  —   France chose an idealistic, traditi...     0\n",
              "7      9   9  ...  A week before Michael T. Flynn resigned as nat...     0\n",
              "8     10  10  ...  Organizing for Action, the activist group that...     0\n",
              "9     11  11  ...  The BBC produced spoof on the “Real Housewives...     0\n",
              "\n",
              "[10 rows x 6 columns]"
            ]
          },
          "metadata": {
            "tags": []
          },
          "execution_count": 48
        }
      ]
    },
    {
      "cell_type": "code",
      "metadata": {
        "id": "czeNs09qpKJ6"
      },
      "source": [
        "messages.drop('index', axis=1, inplace=True)"
      ],
      "execution_count": 49,
      "outputs": []
    },
    {
      "cell_type": "code",
      "metadata": {
        "colab": {
          "base_uri": "https://localhost:8080/"
        },
        "id": "gpTpv2LTqbMI",
        "outputId": "7304dee2-ac93-49f6-94f6-3afcf6329d1c"
      },
      "source": [
        "nltk.download('stopwords')"
      ],
      "execution_count": 50,
      "outputs": [
        {
          "output_type": "stream",
          "text": [
            "[nltk_data] Downloading package stopwords to /root/nltk_data...\n",
            "[nltk_data]   Package stopwords is already up-to-date!\n"
          ],
          "name": "stdout"
        },
        {
          "output_type": "execute_result",
          "data": {
            "text/plain": [
              "True"
            ]
          },
          "metadata": {
            "tags": []
          },
          "execution_count": 50
        }
      ]
    },
    {
      "cell_type": "code",
      "metadata": {
        "id": "MMFU5Hqko9lQ"
      },
      "source": [
        "ps = PorterStemmer()\n",
        "corpus = []\n",
        "for i in range(len(messages)):\n",
        "    review = re.sub('[^a-zA-Z]', ' ', messages['text'][i])\n",
        "    review = review.lower()\n",
        "    review = review.split()\n",
        "    review = [ps.stem(word) for word in review if word not in stopwords.words('english')]\n",
        "    review = ' '.join(review)\n",
        "    corpus.append(review)"
      ],
      "execution_count": 51,
      "outputs": []
    },
    {
      "cell_type": "code",
      "metadata": {
        "colab": {
          "base_uri": "https://localhost:8080/",
          "height": 100
        },
        "id": "Wxo-79RdqXHy",
        "outputId": "1c22916f-ee0e-4ea4-8819-2bfe9079389b"
      },
      "source": [
        "corpus[3]"
      ],
      "execution_count": 52,
      "outputs": [
        {
          "output_type": "execute_result",
          "data": {
            "application/vnd.google.colaboratory.intrinsic+json": {
              "type": "string"
            },
            "text/plain": [
              "'video civilian kill singl us airstrik identifi rate civilian kill american airstrik afghanistan higher us engag activ combat oper photo hellfir missil load onto us militari reaper drone afghanistan staff sgt brian ferguson u air forc bureau abl identifi civilian kill singl us drone strike afghanistan last month biggest loss civilian life one strike sinc attack medecin san frontier hospit msf last octob us claim conduct counter terror strike islam state fighter hit nangarhar provinc missil septemb next day unit nation issu unusu rapid strong statement say strike kill civilian injur other gather hous celebr tribal elder return pilgrimag mecca bureau spoke man name haji rai said owner hous target said peopl kill other injur provid name list bureau abl independ verifi ident die rai son headmast local school among anoth man abdul hakim lost three son attack rai said involv deni us claim member visit hous strike said even speak sort peopl phone let alon receiv hous death amount biggest confirm loss civilian life singl american strike afghanistan sinc attack msf hospit kunduz last octob kill least peopl nangarhar strike us attack kill civilian septemb bureau data indic mani civilian alli soldier kill four american strike afghanistan somalia month septemb pair strike kill eight afghan policemen tarinkot capit urozgan provic us jet reportedli hit polic checkpoint kill one offic return target first respond use tactic known doubl tap strike controversi often hit civilian rescuer us told bureau conduct strike individu fire pose threat afghan forc email directli address alleg afghan policemen kill end month somalia citizen burnt us flag street north central citi galcayo emerg drone attack may unintent kill somali soldier civilian strike occur day one nangarhar somali afghan incid us first deni non combat kill investig strike nangarhar galcayo rate civilian kill american airstrik afghanistan higher us engag activ combat oper name'"
            ]
          },
          "metadata": {
            "tags": []
          },
          "execution_count": 52
        }
      ]
    },
    {
      "cell_type": "markdown",
      "metadata": {
        "id": "yLc-zN4iqrWh"
      },
      "source": [
        "> ## TF-IDF Vectorizer"
      ]
    },
    {
      "cell_type": "code",
      "metadata": {
        "id": "9omFtemoloFj"
      },
      "source": [
        "tfidf = TfidfVectorizer(max_features=5000, ngram_range=(1, 3))\n",
        "X = tfidf.fit_transform(corpus).toarray()"
      ],
      "execution_count": 53,
      "outputs": []
    },
    {
      "cell_type": "code",
      "metadata": {
        "colab": {
          "base_uri": "https://localhost:8080/"
        },
        "id": "lXE2oeajloCa",
        "outputId": "bebc3ab7-6c70-4040-80d4-85c40cb77557"
      },
      "source": [
        "X.shape"
      ],
      "execution_count": 54,
      "outputs": [
        {
          "output_type": "execute_result",
          "data": {
            "text/plain": [
              "(4380, 5000)"
            ]
          },
          "metadata": {
            "tags": []
          },
          "execution_count": 54
        }
      ]
    },
    {
      "cell_type": "code",
      "metadata": {
        "id": "noPst9ztln_l"
      },
      "source": [
        "y = messages['label']"
      ],
      "execution_count": 55,
      "outputs": []
    },
    {
      "cell_type": "markdown",
      "metadata": {
        "id": "dvMwGHC_tHlw"
      },
      "source": [
        "> ## Splitting the data into Training and Test datasets"
      ]
    },
    {
      "cell_type": "code",
      "metadata": {
        "id": "MQcfjX_oln87"
      },
      "source": [
        "X_train, X_test, y_train, y_test = train_test_split(X, y, test_size=0.33, random_state=0)"
      ],
      "execution_count": 56,
      "outputs": []
    },
    {
      "cell_type": "code",
      "metadata": {
        "colab": {
          "base_uri": "https://localhost:8080/"
        },
        "id": "KaFjnD1Sln6E",
        "outputId": "098fa562-2c5e-46a4-f517-462f0c16546e"
      },
      "source": [
        "tfidf.get_feature_names()[:20]"
      ],
      "execution_count": 57,
      "outputs": [
        {
          "output_type": "execute_result",
          "data": {
            "text/plain": [
              "['aaron',\n",
              " 'abandon',\n",
              " 'abc',\n",
              " 'abc news',\n",
              " 'abe',\n",
              " 'abedin',\n",
              " 'abil',\n",
              " 'abl',\n",
              " 'abort',\n",
              " 'abroad',\n",
              " 'absenc',\n",
              " 'absolut',\n",
              " 'absorb',\n",
              " 'absurd',\n",
              " 'abu',\n",
              " 'abund',\n",
              " 'abus',\n",
              " 'academ',\n",
              " 'academi',\n",
              " 'acceler']"
            ]
          },
          "metadata": {
            "tags": []
          },
          "execution_count": 57
        }
      ]
    },
    {
      "cell_type": "code",
      "metadata": {
        "colab": {
          "base_uri": "https://localhost:8080/"
        },
        "id": "tVspZWlWuucG",
        "outputId": "c21d1bc9-9248-40cb-ebce-0a88856d6d12"
      },
      "source": [
        "tfidf.get_params()"
      ],
      "execution_count": 58,
      "outputs": [
        {
          "output_type": "execute_result",
          "data": {
            "text/plain": [
              "{'analyzer': 'word',\n",
              " 'binary': False,\n",
              " 'decode_error': 'strict',\n",
              " 'dtype': numpy.float64,\n",
              " 'encoding': 'utf-8',\n",
              " 'input': 'content',\n",
              " 'lowercase': True,\n",
              " 'max_df': 1.0,\n",
              " 'max_features': 5000,\n",
              " 'min_df': 1,\n",
              " 'ngram_range': (1, 3),\n",
              " 'norm': 'l2',\n",
              " 'preprocessor': None,\n",
              " 'smooth_idf': True,\n",
              " 'stop_words': None,\n",
              " 'strip_accents': None,\n",
              " 'sublinear_tf': False,\n",
              " 'token_pattern': '(?u)\\\\b\\\\w\\\\w+\\\\b',\n",
              " 'tokenizer': None,\n",
              " 'use_idf': True,\n",
              " 'vocabulary': None}"
            ]
          },
          "metadata": {
            "tags": []
          },
          "execution_count": 58
        }
      ]
    },
    {
      "cell_type": "code",
      "metadata": {
        "colab": {
          "base_uri": "https://localhost:8080/"
        },
        "id": "W42Gzmbau28L",
        "outputId": "012aef8a-9b91-4341-d388-9344094284b5"
      },
      "source": [
        "count_df = pd.DataFrame(X_train, columns=tfidf.get_feature_names())\n",
        "count_df.head"
      ],
      "execution_count": 59,
      "outputs": [
        {
          "output_type": "execute_result",
          "data": {
            "text/plain": [
              "<bound method NDFrame.head of       aaron   abandon       abc  abc news  ...  zika  zionist      zone   zu\n",
              "0       0.0  0.000000  0.000000       0.0  ...   0.0      0.0  0.000000  0.0\n",
              "1       0.0  0.000000  0.063084       0.0  ...   0.0      0.0  0.000000  0.0\n",
              "2       0.0  0.000000  0.000000       0.0  ...   0.0      0.0  0.000000  0.0\n",
              "3       0.0  0.000000  0.000000       0.0  ...   0.0      0.0  0.026345  0.0\n",
              "4       0.0  0.036726  0.000000       0.0  ...   0.0      0.0  0.035205  0.0\n",
              "...     ...       ...       ...       ...  ...   ...      ...       ...  ...\n",
              "2929    0.0  0.000000  0.000000       0.0  ...   0.0      0.0  0.000000  0.0\n",
              "2930    0.0  0.000000  0.000000       0.0  ...   0.0      0.0  0.000000  0.0\n",
              "2931    0.0  0.000000  0.000000       0.0  ...   0.0      0.0  0.000000  0.0\n",
              "2932    0.0  0.000000  0.000000       0.0  ...   0.0      0.0  0.000000  0.0\n",
              "2933    0.0  0.000000  0.000000       0.0  ...   0.0      0.0  0.000000  0.0\n",
              "\n",
              "[2934 rows x 5000 columns]>"
            ]
          },
          "metadata": {
            "tags": []
          },
          "execution_count": 59
        }
      ]
    },
    {
      "cell_type": "markdown",
      "metadata": {
        "id": "lHv3ZuY6vOb-"
      },
      "source": [
        "> ## MultinomialNB Algorithm"
      ]
    },
    {
      "cell_type": "code",
      "metadata": {
        "id": "zSLaw_blvEqM"
      },
      "source": [
        "classifier=MultinomialNB()"
      ],
      "execution_count": 60,
      "outputs": []
    },
    {
      "cell_type": "code",
      "metadata": {
        "colab": {
          "base_uri": "https://localhost:8080/"
        },
        "id": "h5QfufebvesS",
        "outputId": "f6f794fa-ae7f-48a8-b931-2cc69a3b3d97"
      },
      "source": [
        "classifier.fit(X_train, y_train)\n",
        "pred = classifier.predict(X_test)\n",
        "score = accuracy_score(y_test, pred)\n",
        "print(\"accuracy:   %0.3f\" % score)"
      ],
      "execution_count": 61,
      "outputs": [
        {
          "output_type": "stream",
          "text": [
            "accuracy:   0.889\n"
          ],
          "name": "stdout"
        }
      ]
    },
    {
      "cell_type": "code",
      "metadata": {
        "colab": {
          "base_uri": "https://localhost:8080/",
          "height": 295
        },
        "id": "X3gI7W98vfm-",
        "outputId": "fc46005f-8793-499e-c803-f2a3bd0ae04b"
      },
      "source": [
        "plot_confusion_matrix(classifier, X_test, y_test, display_labels=['REAL', 'FAKE'], values_format='d')"
      ],
      "execution_count": 62,
      "outputs": [
        {
          "output_type": "execute_result",
          "data": {
            "text/plain": [
              "<sklearn.metrics._plot.confusion_matrix.ConfusionMatrixDisplay at 0x7f4f2f0b0990>"
            ]
          },
          "metadata": {
            "tags": []
          },
          "execution_count": 62
        },
        {
          "output_type": "display_data",
          "data": {
            "image/png": "[encoded data removed]",
            "text/plain": [
              "<Figure size 432x288 with 2 Axes>"
            ]
          },
          "metadata": {
            "tags": [],
            "needs_background": "light"
          }
        }
      ]
    },
    {
      "cell_type": "markdown",
      "metadata": {
        "id": "3m7fFos3v_Ri"
      },
      "source": [
        "> ## Passive Aggressive Classifier Algorithm"
      ]
    },
    {
      "cell_type": "code",
      "metadata": {
        "id": "aG6LFZNzwDSn"
      },
      "source": [
        "import itertools\n",
        "linear_clf = PassiveAggressiveClassifier()"
      ],
      "execution_count": 64,
      "outputs": []
    },
    {
      "cell_type": "code",
      "metadata": {
        "colab": {
          "base_uri": "https://localhost:8080/"
        },
        "id": "wb6d6mkEwKnW",
        "outputId": "bf0d8145-bf17-4270-a1f0-2803c113b445"
      },
      "source": [
        "linear_clf.fit(X_train, y_train)\n",
        "pred = linear_clf.predict(X_test)\n",
        "score = accuracy_score(y_test, pred)\n",
        "print(\"accuracy:   %0.3f\" % score)"
      ],
      "execution_count": 66,
      "outputs": [
        {
          "output_type": "stream",
          "text": [
            "accuracy:   0.938\n"
          ],
          "name": "stdout"
        }
      ]
    },
    {
      "cell_type": "code",
      "metadata": {
        "colab": {
          "base_uri": "https://localhost:8080/",
          "height": 295
        },
        "id": "vqX51XRbwQQ_",
        "outputId": "2288ed36-f0c2-489c-db58-1f2eeea044a7"
      },
      "source": [
        "plot_confusion_matrix(linear_clf, X_test, y_test, display_labels=['REAL', 'FAKE'], values_format='d')"
      ],
      "execution_count": 67,
      "outputs": [
        {
          "output_type": "execute_result",
          "data": {
            "text/plain": [
              "<sklearn.metrics._plot.confusion_matrix.ConfusionMatrixDisplay at 0x7f4f2ef15610>"
            ]
          },
          "metadata": {
            "tags": []
          },
          "execution_count": 67
        },
        {
          "output_type": "display_data",
          "data": {
            "image/png": "[encoded data removed]",
            "text/plain": [
              "<Figure size 432x288 with 2 Axes>"
            ]
          },
          "metadata": {
            "tags": [],
            "needs_background": "light"
          }
        }
      ]
    },
    {
      "cell_type": "markdown",
      "metadata": {
        "id": "_HZNpNpewYwc"
      },
      "source": [
        "> ## Multinomial Classifier with Hyperparameter"
      ]
    },
    {
      "cell_type": "code",
      "metadata": {
        "id": "m7bODfA-wb1o"
      },
      "source": [
        "classifier=MultinomialNB(alpha=0.1)"
      ],
      "execution_count": 68,
      "outputs": []
    },
    {
      "cell_type": "code",
      "metadata": {
        "colab": {
          "base_uri": "https://localhost:8080/"
        },
        "id": "m6HH3azFwffi",
        "outputId": "3fbd203b-7979-46b8-afb7-d8a270415194"
      },
      "source": [
        "import numpy as np\n",
        "previous_score=0\n",
        "for alpha in np.arange(0,1,0.1):\n",
        "    sub_classifier=MultinomialNB(alpha=alpha)\n",
        "    sub_classifier.fit(X_train,y_train)\n",
        "    y_pred=sub_classifier.predict(X_test)\n",
        "    score = accuracy_score(y_test, y_pred)\n",
        "    if score>previous_score:\n",
        "        classifier=sub_classifier\n",
        "    print(\"Alpha: {}, Score : {}\".format(alpha,score))"
      ],
      "execution_count": 70,
      "outputs": [
        {
          "output_type": "stream",
          "text": [
            "/usr/local/lib/python3.7/dist-packages/sklearn/naive_bayes.py:507: UserWarning: alpha too small will result in numeric errors, setting alpha = 1.0e-10\n",
            "  'setting alpha = %.1e' % _ALPHA_MIN)\n"
          ],
          "name": "stderr"
        },
        {
          "output_type": "stream",
          "text": [
            "Alpha: 0.0, Score : 0.901106500691563\n",
            "Alpha: 0.1, Score : 0.8997233748271093\n",
            "Alpha: 0.2, Score : 0.8976486860304288\n",
            "Alpha: 0.30000000000000004, Score : 0.8976486860304288\n",
            "Alpha: 0.4, Score : 0.8941908713692946\n",
            "Alpha: 0.5, Score : 0.8941908713692946\n",
            "Alpha: 0.6000000000000001, Score : 0.8934993084370678\n",
            "Alpha: 0.7000000000000001, Score : 0.892807745504841\n",
            "Alpha: 0.8, Score : 0.8921161825726142\n",
            "Alpha: 0.9, Score : 0.8907330567081605\n"
          ],
          "name": "stdout"
        }
      ]
    },
    {
      "cell_type": "code",
      "metadata": {
        "id": "9cZ5sJztwkmY"
      },
      "source": [
        "## Get Features names\n",
        "feature_names = tfidf.get_feature_names()"
      ],
      "execution_count": 72,
      "outputs": []
    },
    {
      "cell_type": "code",
      "metadata": {
        "colab": {
          "base_uri": "https://localhost:8080/"
        },
        "id": "PF5vBanewpJw",
        "outputId": "95288799-edfb-434a-9a61-02b1e860e85d"
      },
      "source": [
        "classifier.coef_[0]"
      ],
      "execution_count": 73,
      "outputs": [
        {
          "output_type": "execute_result",
          "data": {
            "text/plain": [
              "array([-9.34629884, -8.84508548, -8.6405155 , ..., -8.94759678,\n",
              "       -8.36463409, -8.39969456])"
            ]
          },
          "metadata": {
            "tags": []
          },
          "execution_count": 73
        }
      ]
    },
    {
      "cell_type": "code",
      "metadata": {
        "colab": {
          "base_uri": "https://localhost:8080/"
        },
        "id": "5UYN43t1wqny",
        "outputId": "838f304e-84ad-4dae-ec51-306c3c3807d2"
      },
      "source": [
        "### Most real\n",
        "sorted(zip(classifier.coef_[0], feature_names), reverse=True)[:20]"
      ],
      "execution_count": 74,
      "outputs": [
        {
          "output_type": "execute_result",
          "data": {
            "text/plain": [
              "[(-5.608857782717733, 'clinton'),\n",
              " (-5.667751641757096, 'trump'),\n",
              " (-5.83209529645565, 'hillari'),\n",
              " (-6.083575931113877, 'elect'),\n",
              " (-6.1416880625840164, 'us'),\n",
              " (-6.367235711709237, 'peopl'),\n",
              " (-6.371083481398433, 'state'),\n",
              " (-6.381529083196995, 'vote'),\n",
              " (-6.412804782918988, 'email'),\n",
              " (-6.43731090106396, 'hillari clinton'),\n",
              " (-6.4574918531847825, 'one'),\n",
              " (-6.479902749241743, 'fbi'),\n",
              " (-6.488295505328878, 'war'),\n",
              " (-6.523882359894154, 'like'),\n",
              " (-6.537649271711539, 'american'),\n",
              " (-6.5460776945810055, 'would'),\n",
              " (-6.601190787658835, 'octob'),\n",
              " (-6.6208802488859755, 'time'),\n",
              " (-6.648440535563003, 'obama'),\n",
              " (-6.653443790316295, 'presid')]"
            ]
          },
          "metadata": {
            "tags": []
          },
          "execution_count": 74
        }
      ]
    },
    {
      "cell_type": "code",
      "metadata": {
        "colab": {
          "base_uri": "https://localhost:8080/"
        },
        "id": "zsz-uCuxwtgN",
        "outputId": "1d79cec7-42ef-4b2d-9230-b4a80d4e8e87"
      },
      "source": [
        "### Most fake\n",
        "sorted(zip(classifier.coef_[0], feature_names))[:5000]"
      ],
      "execution_count": 75,
      "outputs": [
        {
          "output_type": "execute_result",
          "data": {
            "text/plain": [
              "[(-9.810192780152008, 'automak'),\n",
              " (-9.810192780152008, 'brief post'),\n",
              " (-9.810192780152008, 'california today'),\n",
              " (-9.810192780152008, 'cardin'),\n",
              " (-9.810192780152008, 'cellphon'),\n",
              " (-9.810192780152008, 'chef'),\n",
              " (-9.810192780152008, 'colbert'),\n",
              " (-9.810192780152008, 'critic mr'),\n",
              " (-9.810192780152008, 'espn'),\n",
              " (-9.810192780152008, 'freedom caucu'),\n",
              " (-9.810192780152008, 'gorsuch'),\n",
              " (-9.810192780152008, 'hick'),\n",
              " (-9.810192780152008, 'jeff poor'),\n",
              " (-9.810192780152008, 'judg gorsuch'),\n",
              " (-9.810192780152008, 'malaria'),\n",
              " (-9.810192780152008, 'mercer'),\n",
              " (-9.810192780152008, 'microcephali'),\n",
              " (-9.810192780152008, 'miranda'),\n",
              " (-9.810192780152008, 'month mr'),\n",
              " (-9.810192780152008, 'morn brief'),\n",
              " (-9.810192780152008, 'mr ail'),\n",
              " (-9.810192780152008, 'mr bannon'),\n",
              " (-9.810192780152008, 'mr christi'),\n",
              " (-9.810192780152008, 'mr clark'),\n",
              " (-9.810192780152008, 'mr cohn'),\n",
              " (-9.810192780152008, 'mr dutert'),\n",
              " (-9.810192780152008, 'mr erdogan'),\n",
              " (-9.810192780152008, 'mr flynn'),\n",
              " (-9.810192780152008, 'mr kerri'),\n",
              " (-9.810192780152008, 'mr kushner'),\n",
              " (-9.810192780152008, 'mr netanyahu'),\n",
              " (-9.810192780152008, 'mr pruitt'),\n",
              " (-9.810192780152008, 'mr ross'),\n",
              " (-9.810192780152008, 'mr ryan'),\n",
              " (-9.810192780152008, 'mr sander'),\n",
              " (-9.810192780152008, 'mr sisi'),\n",
              " (-9.810192780152008, 'mr spicer'),\n",
              " (-9.810192780152008, 'mr tillerson'),\n",
              " (-9.810192780152008, 'mr trump campaign'),\n",
              " (-9.810192780152008, 'mr xi'),\n",
              " (-9.810192780152008, 'ms park'),\n",
              " (-9.810192780152008, 'ms trump'),\n",
              " (-9.810192780152008, 'nytim'),\n",
              " (-9.810192780152008, 'nytim com'),\n",
              " (-9.810192780152008, 'pasdaran'),\n",
              " (-9.810192780152008, 'pitsiladi'),\n",
              " (-9.810192780152008, 'presid mr'),\n",
              " (-9.810192780152008, 'pruitt'),\n",
              " (-9.810192780152008, 'reef'),\n",
              " (-9.810192780152008, 'said ms'),\n",
              " (-9.810192780152008, 'said still'),\n",
              " (-9.810192780152008, 'sean spicer'),\n",
              " (-9.810192780152008, 'sinc mr'),\n",
              " (-9.810192780152008, 'spicer'),\n",
              " (-9.810192780152008, 'support mr trump'),\n",
              " (-9.810192780152008, 'takata'),\n",
              " (-9.810192780152008, 'tangier'),\n",
              " (-9.810192780152008, 'tillerson'),\n",
              " (-9.810192780152008, 'tournament'),\n",
              " (-9.810192780152008, 'valeant'),\n",
              " (-9.810192780152008, 'yiannopoulo'),\n",
              " (-9.801339074213326, 'meet mr'),\n",
              " (-9.795301672201216, 'istanbul'),\n",
              " (-9.791726523290093, 'year mr'),\n",
              " (-9.789478621198313, 'mr assad'),\n",
              " (-9.788615232127887, 'bike'),\n",
              " (-9.784978677927574, 'stadium'),\n",
              " (-9.784821776482527, 'mississippi'),\n",
              " (-9.784395016492564, 'tenni'),\n",
              " (-9.778039286957249, 'like mr'),\n",
              " (-9.778035014080874, 'vote mr'),\n",
              " (-9.773921296743188, 'mr penc'),\n",
              " (-9.773254959174833, 'show mr'),\n",
              " (-9.771458510863885, 'weekday'),\n",
              " (-9.770965072907742, 'sisi'),\n",
              " (-9.769359754773383, 'sabin'),\n",
              " (-9.768977553892064, 'samsung'),\n",
              " (-9.76889988821643, 'fargo'),\n",
              " (-9.768359242914402, 'state mr'),\n",
              " (-9.76823602742228, 'weekday eastern'),\n",
              " (-9.7679206508342, 'musk'),\n",
              " (-9.767673836045677, 'call mr'),\n",
              " (-9.76606165055334, 'trump inaugur'),\n",
              " (-9.76486841282659, 'super bowl'),\n",
              " (-9.761598517679733, 'mann'),\n",
              " (-9.761321433292027, 'border wall'),\n",
              " (-9.760858559644499, 'blasio'),\n",
              " (-9.760858559644499, 'de blasio'),\n",
              " (-9.759493730199978, 'griffin'),\n",
              " (-9.758896772884016, 'bradi'),\n",
              " (-9.758169204458417, 'christi'),\n",
              " (-9.755822672842159, 'sharia'),\n",
              " (-9.750361124294425, 'coral'),\n",
              " (-9.747049292821837, 'priebu'),\n",
              " (-9.74686972120084, 'said mr trump'),\n",
              " (-9.746464835007995, 'guant'),\n",
              " (-9.746464835007995, 'guant namo'),\n",
              " (-9.746464835007995, 'namo'),\n",
              " (-9.745761777993335, 'support mr'),\n",
              " (-9.745352257576785, 'compani said'),\n",
              " (-9.744340614336608, 'brennan'),\n",
              " (-9.744002409213074, 'album'),\n",
              " (-9.74083947044905, 'ian'),\n",
              " (-9.740201443839037, 'declin comment'),\n",
              " (-9.737697245005078, 'one mr'),\n",
              " (-9.730234606490354, 'beyonc'),\n",
              " (-9.730198098436357, 'volkswagen'),\n",
              " (-9.728764795989628, 'mall'),\n",
              " (-9.72818002681105, 'major leader'),\n",
              " (-9.727868611525677, 'mcconnel'),\n",
              " (-9.727113168166962, 'hous offici'),\n",
              " (-9.72648702321137, 'white hous offici'),\n",
              " (-9.725731307898972, 'carlson'),\n",
              " (-9.725601856900617, 'calif'),\n",
              " (-9.72418800001073, 'brazilian'),\n",
              " (-9.722264155093793, 'mateen'),\n",
              " (-9.72181236587614, 'jeff session'),\n",
              " (-9.720942574819372, 'galaxi'),\n",
              " (-9.720158268076458, 'breitbart news daili'),\n",
              " (-9.720158268076458, 'news daili'),\n",
              " (-9.717307728239962, 'ask mr'),\n",
              " (-9.717288806007362, 'mr putin'),\n",
              " (-9.713384072085379, 'say mr'),\n",
              " (-9.712759669874531, 'andi'),\n",
              " (-9.71145942528732, 'kane'),\n",
              " (-9.708645593920588, 'dine'),\n",
              " (-9.70837870088581, 'linger'),\n",
              " (-9.70617840411942, 'time mr'),\n",
              " (-9.706153729081825, 'kushner'),\n",
              " (-9.705748230926213, 'jare kushner'),\n",
              " (-9.705598031127447, 'mr trump said'),\n",
              " (-9.700185273082326, 'report breitbart'),\n",
              " (-9.696275943997557, 'memoir'),\n",
              " (-9.695945748885915, 'perri'),\n",
              " (-9.695834792145412, 'tesla'),\n",
              " (-9.6953151057519, 'gunman'),\n",
              " (-9.694418145985525, 'trump transit'),\n",
              " (-9.689666540884419, 'marathon'),\n",
              " (-9.688499804365609, 'like want'),\n",
              " (-9.688198471173752, 'broadway'),\n",
              " (-9.687310121237717, 'hudson'),\n",
              " (-9.68596211336168, 'airlin'),\n",
              " (-9.685945775871538, 'question mr'),\n",
              " (-9.685528971734712, 'filibust'),\n",
              " (-9.684211318184225, 'medal'),\n",
              " (-9.68321953258807, 'schumer'),\n",
              " (-9.675186352102852, 'whether mr'),\n",
              " (-9.674531843240095, 'thursday night'),\n",
              " (-9.672166856725323, 'championship'),\n",
              " (-9.672121104373705, 'campaign mr'),\n",
              " (-9.670015929554067, 'repeal obamacar'),\n",
              " (-9.66884401211283, 'gene'),\n",
              " (-9.668395749655101, 'captain'),\n",
              " (-9.667886072602972, 'diego'),\n",
              " (-9.666768844401917, 'seller'),\n",
              " (-9.666202790479348, 'day mr'),\n",
              " (-9.665877746558898, 'nightclub'),\n",
              " (-9.665675691342638, 'said dr'),\n",
              " (-9.665647041450788, 'parti leader'),\n",
              " (-9.664101205636449, 'san diego'),\n",
              " (-9.663841572900324, 'statement said'),\n",
              " (-9.66266656761088, 'hawkin'),\n",
              " (-9.662230455479941, 'comedian'),\n",
              " (-9.661338642746948, 'buyer'),\n",
              " (-9.660823478680094, 'monday night'),\n",
              " (-9.655444548191166, 'mr trump mr'),\n",
              " (-9.654828318696586, 'week mr'),\n",
              " (-9.654516556825847, 'breitbart com'),\n",
              " (-9.65338162007532, 'hbo'),\n",
              " (-9.653349474956563, 'said mr'),\n",
              " (-9.653150622161368, 'ambiti'),\n",
              " (-9.651709397229556, 'white voter'),\n",
              " (-9.651057313979884, 'nation secur council'),\n",
              " (-9.650758652799539, 'would come'),\n",
              " (-9.649999785348921, 'expert say'),\n",
              " (-9.649479346628475, 'silicon valley'),\n",
              " (-9.648714898675777, 'heel'),\n",
              " (-9.64746065396149, 'hedg fund'),\n",
              " (-9.647458932198298, 'tax credit'),\n",
              " (-9.647242530173454, 'maryland'),\n",
              " (-9.647218110874826, 'nfl'),\n",
              " (-9.646998179173947, 'basketbal'),\n",
              " (-9.646748622018391, 'state said'),\n",
              " (-9.646368144884693, 'inmat'),\n",
              " (-9.645813643884377, 'taiwan'),\n",
              " (-9.642341940943133, 'alexand'),\n",
              " (-9.640636301626682, 'trump told'),\n",
              " (-9.640460261760337, 'said mani'),\n",
              " (-9.638680113937282, 'said presid'),\n",
              " (-9.636952498651782, 'girlfriend'),\n",
              " (-9.63560882145562, 'punk'),\n",
              " (-9.632385887070267, 'stephen bannon'),\n",
              " (-9.632058401811594, 'work mr'),\n",
              " (-9.631540144655805, 'mosquito'),\n",
              " (-9.630854564294658, 'trump white hous'),\n",
              " (-9.63083613343471, 'announc would'),\n",
              " (-9.630260904407601, 'overhaul'),\n",
              " (-9.628805811679076, 'breach'),\n",
              " (-9.627580465491125, 'defens secretari'),\n",
              " (-9.626964885457099, 'debut'),\n",
              " (-9.626120512481483, 'attende'),\n",
              " (-9.625856220775907, 'judiciari committe'),\n",
              " (-9.623563073263254, 'detaine'),\n",
              " (-9.62271691620697, 'said recent'),\n",
              " (-9.621665339213008, 'trump mr'),\n",
              " (-9.61970904859169, 'unit state would'),\n",
              " (-9.619025386127182, 'solidar'),\n",
              " (-9.618525908859345, 'said believ'),\n",
              " (-9.617853976710162, 'nigeria'),\n",
              " (-9.616666061141714, 'haley'),\n",
              " (-9.616655971101206, 'perez'),\n",
              " (-9.616427929470426, 'checkpoint'),\n",
              " (-9.616093300518928, 'cohn'),\n",
              " (-9.615545722889728, 'rev'),\n",
              " (-9.614557007113179, 'longstand'),\n",
              " (-9.613733282359583, 'pam'),\n",
              " (-9.61205897026979, 'lopez'),\n",
              " (-9.611962988719325, 'weld'),\n",
              " (-9.611844941191034, 'atlanta'),\n",
              " (-9.610458263122384, 'connecticut'),\n",
              " (-9.609548848876507, 'claus'),\n",
              " (-9.60942416698785, 'rio'),\n",
              " (-9.608095610741733, 'time said'),\n",
              " (-9.607617533658136, 'passport'),\n",
              " (-9.607452636342293, 'suburb'),\n",
              " (-9.607417297398483, 'said ad'),\n",
              " (-9.607101455834997, 'sprawl'),\n",
              " (-9.607053596960002, 'brussel'),\n",
              " (-9.606228069288152, 'predecessor'),\n",
              " (-9.60617073219397, 'lane'),\n",
              " (-9.606133311493867, 'feb'),\n",
              " (-9.604806222301757, 'veto'),\n",
              " (-9.604689495421747, 'said never'),\n",
              " (-9.604509936766576, 'said peopl'),\n",
              " (-9.60354810099596, 'manchest'),\n",
              " (-9.603125132590232, 'court rule'),\n",
              " (-9.602415335510488, 'salad'),\n",
              " (-9.600535021920676, 'exhaust'),\n",
              " (-9.600463532105193, 'wilson'),\n",
              " (-9.599301709195736, 'classmat'),\n",
              " (-9.59908973327098, 'mr johnson'),\n",
              " (-9.598626350236234, 'lewandowski'),\n",
              " (-9.597089020088163, 'year said'),\n",
              " (-9.590753965697882, 'carson'),\n",
              " (-9.59057330223688, 'microsoft'),\n",
              " (-9.590491721015049, 'trauma'),\n",
              " (-9.590107891819954, 'puerto'),\n",
              " (-9.589769166394623, 'neil'),\n",
              " (-9.588901787308476, 'defer'),\n",
              " (-9.588865532102716, 'snapchat'),\n",
              " (-9.588165370390554, 'hemp'),\n",
              " (-9.58750031321014, 'kitchen'),\n",
              " (-9.587308951907614, 'soccer'),\n",
              " (-9.586137925587524, 'could help'),\n",
              " (-9.586030545678362, 'galleri'),\n",
              " (-9.585901400786838, 'campus'),\n",
              " (-9.58576615271343, 'charlott'),\n",
              " (-9.585737585983852, 'brook'),\n",
              " (-9.585456678952852, 'somalia'),\n",
              " (-9.584901029678367, 'said last'),\n",
              " (-9.584385452086222, 'wash'),\n",
              " (-9.58409342164785, 'incom tax'),\n",
              " (-9.5825664652141, 'actress'),\n",
              " (-9.581244143014322, 'hong'),\n",
              " (-9.581244143014322, 'kong'),\n",
              " (-9.579904754041321, 'interview mr'),\n",
              " (-9.579744075573574, 'hong kong'),\n",
              " (-9.579740511223983, 'th street'),\n",
              " (-9.579613537155295, 'said even'),\n",
              " (-9.57937306790739, 'marlow'),\n",
              " (-9.579141950548157, 'uc'),\n",
              " (-9.578195067991821, 'told breitbart'),\n",
              " (-9.57793842419178, 'haunt'),\n",
              " (-9.57711108199679, 'kentucki'),\n",
              " (-9.57624959234246, 'scalia'),\n",
              " (-9.57607192911002, 'forg'),\n",
              " (-9.57523087426225, 'scan'),\n",
              " (-9.574890825141113, 'predominantli'),\n",
              " (-9.574788675495666, 'interrog'),\n",
              " (-9.573582358941948, 'lone'),\n",
              " (-9.573489532432554, 'staff member'),\n",
              " (-9.571860352758009, 'said wednesday'),\n",
              " (-9.57016594916717, 'miami'),\n",
              " (-9.568578840791105, 'said email'),\n",
              " (-9.568535086497256, 'essay'),\n",
              " (-9.568468833961875, 'enthusiasm'),\n",
              " (-9.56691613432037, 'musician'),\n",
              " (-9.564449069189873, 'san francisco'),\n",
              " (-9.563895769892387, 'partli'),\n",
              " (-9.562747044569061, 'told breitbart news'),\n",
              " (-9.562320094165358, 'bench'),\n",
              " (-9.560944925545966, 'two men'),\n",
              " (-9.560942547152399, 'twitter account'),\n",
              " (-9.56047229381108, 'graham'),\n",
              " (-9.559213529005905, 'merkel'),\n",
              " (-9.556219062656552, 'breitbart texa'),\n",
              " (-9.556142929514266, 'report said'),\n",
              " (-9.555574057871278, 'phone call'),\n",
              " (-9.55545744329957, 'matti'),\n",
              " (-9.554576690903092, 'could make'),\n",
              " (-9.554459236926506, 'said could'),\n",
              " (-9.554427241819889, 'swiss'),\n",
              " (-9.553637724573864, 'commut'),\n",
              " (-9.553553624598797, 'secur advis'),\n",
              " (-9.553198930286019, 'easter'),\n",
              " (-9.553021796748382, 'nation secur advis'),\n",
              " (-9.55299466227197, 'leas'),\n",
              " (-9.552822032391811, 'presid donald'),\n",
              " (-9.552822032391811, 'presid donald trump'),\n",
              " (-9.550734418799216, 'undocu immigr'),\n",
              " (-9.54968559089922, 'push back'),\n",
              " (-9.549217964839617, 'massachusett'),\n",
              " (-9.548007753358478, 'ireland'),\n",
              " (-9.54581899758436, 'bomber'),\n",
              " (-9.545779285776717, 'said said'),\n",
              " (-9.545379184009096, 'luck'),\n",
              " (-9.54535681470526, 'sidewalk'),\n",
              " (-9.545166367241018, 'two peopl'),\n",
              " (-9.544164253989234, 'hous press'),\n",
              " (-9.544164253989234, 'white hous press'),\n",
              " (-9.543392579797137, 'caucu'),\n",
              " (-9.543062586743646, 'saturday night'),\n",
              " (-9.541828672945487, 'hannah'),\n",
              " (-9.541624375727274, 'passeng'),\n",
              " (-9.539807469304893, 'francisco'),\n",
              " (-9.539057573314688, 'polit analyst'),\n",
              " (-9.538079718185895, 'bargain'),\n",
              " (-9.537157602234528, 'comedi'),\n",
              " (-9.53697680104055, 'taylor'),\n",
              " (-9.5359252138738, 'said thursday'),\n",
              " (-9.535839349256985, 'deepen'),\n",
              " (-9.535502349356218, 'dylan'),\n",
              " (-9.53523417658387, 'lieuten'),\n",
              " (-9.535071148743045, 'michael flynn'),\n",
              " (-9.534577486067743, 'herald'),\n",
              " (-9.534058978854272, 'administr offici'),\n",
              " (-9.533823720272554, 'lesbian'),\n",
              " (-9.532290556416697, 'colombia'),\n",
              " (-9.53093820033791, 'west bank'),\n",
              " (-9.530415073137107, 'joel'),\n",
              " (-9.529794574191689, 'milo'),\n",
              " (-9.528523312800328, 'modest'),\n",
              " (-9.527831245936444, 'jacket'),\n",
              " (-9.527822207765627, 'state attorney'),\n",
              " (-9.527423516818768, 'drama'),\n",
              " (-9.526859903809893, 'cotton'),\n",
              " (-9.525925283229876, 'juan'),\n",
              " (-9.524954532478072, 'new book'),\n",
              " (-9.52339316824987, 'muhammad'),\n",
              " (-9.523237458961228, 'siriusxm'),\n",
              " (-9.522855345027414, 'flew'),\n",
              " (-9.521570194922997, 'new year'),\n",
              " (-9.52150321876772, 'seven year'),\n",
              " (-9.521311992700184, 'motor'),\n",
              " (-9.521291212808116, 'trade deal'),\n",
              " (-9.52073468304741, 'medicaid'),\n",
              " (-9.520666335098614, 'trump first'),\n",
              " (-9.51916429027261, 'hybrid'),\n",
              " (-9.51910195847695, 'airplan'),\n",
              " (-9.518960077815574, 'khan'),\n",
              " (-9.51892246945807, 'south korean'),\n",
              " (-9.5180134971801, 'rais question'),\n",
              " (-9.517888216424636, 'jan'),\n",
              " (-9.517731377132147, 'levi'),\n",
              " (-9.517359217088838, 'vocal'),\n",
              " (-9.51723655502819, 'like see'),\n",
              " (-9.516974934828687, 'legislatur'),\n",
              " (-9.516056898899086, 'underscor'),\n",
              " (-9.515694473217838, 'laboratori'),\n",
              " (-9.515323004552043, 'recip'),\n",
              " (-9.515243585469817, 'curb'),\n",
              " (-9.515209217477672, 'uncertainti'),\n",
              " (-9.513684198367248, 'homicid'),\n",
              " (-9.51208145261171, 'recent day'),\n",
              " (-9.511542005329387, 'nonprofit'),\n",
              " (-9.511159883208693, 'nanci'),\n",
              " (-9.509333064762052, 'dec'),\n",
              " (-9.507199006760136, 'grip'),\n",
              " (-9.505318640068797, 'fla'),\n",
              " (-9.505141918698756, 'grandchildren'),\n",
              " (-9.505052892280958, 'panel'),\n",
              " (-9.503305809262264, 'said refer'),\n",
              " (-9.503261448254856, 'poem'),\n",
              " (-9.502627953466417, 'invok'),\n",
              " (-9.501969124225417, 'advisori'),\n",
              " (-9.501705590994153, 'museum'),\n",
              " (-9.500879955679173, 'tax return'),\n",
              " (-9.500592879242546, 'wine'),\n",
              " (-9.500490911882318, 'buzzfe'),\n",
              " (-9.499708926802262, 'sanctuari citi'),\n",
              " (-9.49918479058046, 'news outlet'),\n",
              " (-9.49899021442147, 'rental'),\n",
              " (-9.498555843276277, 'entrepreneur'),\n",
              " (-9.498324109608491, 'fossil'),\n",
              " (-9.497988091527597, 'two year ago'),\n",
              " (-9.497146423298583, 'said time'),\n",
              " (-9.497090707194687, 'reiter'),\n",
              " (-9.496826765186432, 'sudan'),\n",
              " (-9.49665737198326, 'presid said'),\n",
              " (-9.49660293415912, 'loom'),\n",
              " (-9.49591121515928, 'wooden'),\n",
              " (-9.495655324427299, 'felt like'),\n",
              " (-9.494414369287801, 'jean'),\n",
              " (-9.494095375890817, 'crown'),\n",
              " (-9.493736317844093, 'temperatur'),\n",
              " (-9.49339311473676, 'capitol hill'),\n",
              " (-9.49310953114705, 'say would'),\n",
              " (-9.49283858913643, 'disagr'),\n",
              " (-9.492149500434794, 'retreat'),\n",
              " (-9.4920306422824, 'peopl come'),\n",
              " (-9.491876483907136, 'cousin'),\n",
              " (-9.491830009967918, 'coulter'),\n",
              " (-9.49107273971078, 'bloom'),\n",
              " (-9.4909311160196, 'financi crisi'),\n",
              " (-9.490227752582197, 'new jersey'),\n",
              " (-9.489475989678624, 'silicon'),\n",
              " (-9.488967975123716, 'jersey'),\n",
              " (-9.48854262107141, 'public health'),\n",
              " (-9.48842040286462, 'concert'),\n",
              " (-9.48772275699526, 'pant'),\n",
              " (-9.48693038313611, 'buse'),\n",
              " (-9.486785957622793, 'judiciari'),\n",
              " (-9.48668763908145, 'collin'),\n",
              " (-9.4865712825138, 'moham'),\n",
              " (-9.486303793119488, 'speaker paul'),\n",
              " (-9.486303793119488, 'speaker paul ryan'),\n",
              " (-9.486009404324012, 'peopl said'),\n",
              " (-9.484027857532121, 'nj'),\n",
              " (-9.48313804277912, 'switzerland'),\n",
              " (-9.481977935154745, 'said think'),\n",
              " (-9.480973182396493, 'open fire'),\n",
              " (-9.480437408795305, 'classroom'),\n",
              " (-9.48031760933503, 'parad'),\n",
              " (-9.479589122335211, 'bathroom'),\n",
              " (-9.47889118600042, 'think go'),\n",
              " (-9.478326985073714, 'diplomaci'),\n",
              " (-9.477459819029121, 'charter'),\n",
              " (-9.477376287089333, 'drew'),\n",
              " (-9.475861415177137, 'urin'),\n",
              " (-9.475780967149026, 'also includ'),\n",
              " (-9.474862967644142, 'abu'),\n",
              " (-9.474278101499031, 'tunnel'),\n",
              " (-9.474212640870173, 'valley'),\n",
              " (-9.474180116353594, 'fade'),\n",
              " (-9.473636831786443, 'brooklyn'),\n",
              " (-9.472801442303084, 'pleasur'),\n",
              " (-9.472791112504579, 'underway'),\n",
              " (-9.472196670107333, 'sever year'),\n",
              " (-9.472125317952072, 'said hope'),\n",
              " (-9.471928436312124, 'would look'),\n",
              " (-9.471835539981559, 'offic said'),\n",
              " (-9.47104324553634, 'conceiv'),\n",
              " (-9.470961952813612, 'kasich'),\n",
              " (-9.469616566226525, 'overlook'),\n",
              " (-9.468952964020252, 'transit team'),\n",
              " (-9.468948687618266, 'depart said'),\n",
              " (-9.468839637426141, 'bunker'),\n",
              " (-9.467894748173453, 'smuggl'),\n",
              " (-9.466934895342868, 'eve'),\n",
              " (-9.466530445435236, 'depart homeland'),\n",
              " (-9.466530445435236, 'depart homeland secur'),\n",
              " (-9.466269236130882, 'stall'),\n",
              " (-9.465510609888655, 'delight'),\n",
              " (-9.464040749215506, 'uniform'),\n",
              " (-9.46313554979094, 'offici say'),\n",
              " (-9.463020209982332, 'faster'),\n",
              " (-9.46255660367711, 'dougla'),\n",
              " (-9.46238718709573, 'right thing'),\n",
              " (-9.462302846637273, 'furnitur'),\n",
              " (-9.462295082277864, 'slip'),\n",
              " (-9.461242054600163, 'wore'),\n",
              " (-9.460781810437727, 'compos'),\n",
              " (-9.460227844097028, 'second amend'),\n",
              " (-9.460143843491357, 'festiv'),\n",
              " (-9.460023361680578, 'cocktail'),\n",
              " (-9.459903053063687, 'ceremoni'),\n",
              " (-9.459217835803875, 'greet'),\n",
              " (-9.459137081304258, 'bring back'),\n",
              " (-9.459103403423912, 'optimist'),\n",
              " (-9.458189812325026, 'minimum'),\n",
              " (-9.45709835929031, 'convey'),\n",
              " (-9.4570399604397, 'exclud'),\n",
              " (-9.456977913756095, 'among white'),\n",
              " (-9.456612291170105, 'vega'),\n",
              " (-9.45634840668615, 'bat'),\n",
              " (-9.456022456315, 'myth'),\n",
              " (-9.455897345405823, 'gray'),\n",
              " (-9.455643566391476, 'roof'),\n",
              " (-9.455580973608365, 'everi year'),\n",
              " (-9.454928068025014, 'childhood'),\n",
              " (-9.453830094545108, 'bell'),\n",
              " (-9.453700275313615, 'presid bashar'),\n",
              " (-9.453325427467464, 'oust'),\n",
              " (-9.453230303082563, 'secur forc'),\n",
              " (-9.45286032663595, 'xi'),\n",
              " (-9.452275413655908, 'yell'),\n",
              " (-9.451881207288983, 'china sea'),\n",
              " (-9.45041998273825, 'south china sea'),\n",
              " (-9.450395093081841, 'stir'),\n",
              " (-9.450376402869958, 'slide'),\n",
              " (-9.449985914540383, 'spotlight'),\n",
              " (-9.449606107599468, 'beij'),\n",
              " (-9.449278952371543, 'fallout'),\n",
              " (-9.448357883241753, 'philip'),\n",
              " (-9.448109545697859, 'convoy'),\n",
              " (-9.447896367562699, 'spill'),\n",
              " (-9.447773056957207, 'hous republican'),\n",
              " (-9.447646532043702, 'said go'),\n",
              " (-9.447199791069979, 'nurs'),\n",
              " (-9.447171913302986, 'certif'),\n",
              " (-9.447130115667484, 'explicitli'),\n",
              " (-9.446685231026724, 'missouri'),\n",
              " (-9.446600634591615, 'legitimaci'),\n",
              " (-9.446136712934358, 'thick'),\n",
              " (-9.446033136263763, 'wanda'),\n",
              " (-9.44562833033293, 'houston'),\n",
              " (-9.445004039574568, 'would becom'),\n",
              " (-9.444870784318208, 'said also'),\n",
              " (-9.44434084738722, 'abe'),\n",
              " (-9.444273372393171, 'coastal'),\n",
              " (-9.443986121298373, 'littl bit'),\n",
              " (-9.443529050160908, 'advocaci group'),\n",
              " (-9.443352487803235, 'destin'),\n",
              " (-9.443328380316284, 'younger'),\n",
              " (-9.44320508984981, 'pronounc'),\n",
              " (-9.442884197895918, 'shanghai'),\n",
              " (-9.442504006741338, 'counterterror'),\n",
              " (-9.441197197397146, 'hous speaker'),\n",
              " (-9.440092089577774, 'south china'),\n",
              " (-9.438613743763122, 'parol'),\n",
              " (-9.438188542242763, 'athlet'),\n",
              " (-9.438027092978952, 'trump organ'),\n",
              " (-9.438000032677492, 'rob'),\n",
              " (-9.437916391254802, 'stanford'),\n",
              " (-9.437449473902989, 'dish'),\n",
              " (-9.437163965402002, 'pregnant'),\n",
              " (-9.436830567018227, 'fierc'),\n",
              " (-9.436005009068765, 'infowar life'),\n",
              " (-9.434648021979097, 'coach'),\n",
              " (-9.43450070562211, 'austin'),\n",
              " (-9.434004831627865, 'obstacl'),\n",
              " (-9.433740588418061, 'logo'),\n",
              " (-9.433662216185436, 'arena'),\n",
              " (-9.433526738806927, 'friendship'),\n",
              " (-9.43343384060547, 'jay'),\n",
              " (-9.433195412932225, 'visitor'),\n",
              " (-9.43316190573509, 'smartphon'),\n",
              " (-9.432811785751563, 'jerri'),\n",
              " (-9.432677750855223, 'rubber'),\n",
              " (-9.43263257212176, 'broader'),\n",
              " (-9.432305558034034, 'portrait'),\n",
              " (-9.432143934654812, 'groceri'),\n",
              " (-9.431339275461912, 'question whether'),\n",
              " (-9.431303146602986, 'elig'),\n",
              " (-9.431107062380264, 'said like'),\n",
              " (-9.431064316758949, 'winter'),\n",
              " (-9.431040255435253, 'immigr polici'),\n",
              " (-9.43057427545085, 'collabor'),\n",
              " (-9.430192669265434, 'scope'),\n",
              " (-9.429653543571044, 'audit'),\n",
              " (-9.429545757197742, 'liquid'),\n",
              " (-9.429535191575491, 'compens'),\n",
              " (-9.42933843678412, 'marco'),\n",
              " (-9.428480576532083, 'ambit'),\n",
              " (-9.428187404458122, 'sheet'),\n",
              " (-9.427817461207159, 'manhattan'),\n",
              " (-9.427510673331644, 'pioneer'),\n",
              " (-9.427492518340554, 'go happen'),\n",
              " (-9.427206392088824, 'southeast'),\n",
              " (-9.426364921722833, 'next gener'),\n",
              " (-9.42596856583535, 'bowl'),\n",
              " (-9.4259130213995, 'lewi'),\n",
              " (-9.425167723016017, 'sanctuari'),\n",
              " (-9.425115576259447, 'auction'),\n",
              " (-9.425087257658827, 'entranc'),\n",
              " (-9.423155123558406, 'tighten'),\n",
              " (-9.4228155782755, 'one anoth'),\n",
              " (-9.422109536833304, 'million year'),\n",
              " (-9.421690804321756, 'slate'),\n",
              " (-9.421536843552978, 'tuesday night'),\n",
              " (-9.421041150794442, 'medicar'),\n",
              " (-9.420757309724818, 'pin'),\n",
              " (-9.420755403313843, 'also known'),\n",
              " (-9.420595382636549, 'ethnic cleans'),\n",
              " (-9.420164886396899, 'trump tower'),\n",
              " (-9.419972179329873, 'jare'),\n",
              " (-9.41987457758648, 'jimmi'),\n",
              " (-9.418978537907106, 'priest'),\n",
              " (-9.418713530697605, 'inspector'),\n",
              " (-9.417494322446412, 'grandfath'),\n",
              " (-9.417339774534724, 'layer'),\n",
              " (-9.417286381980787, 'hail'),\n",
              " (-9.416963104110584, 'hostag'),\n",
              " (-9.416655284105765, 'peopl make'),\n",
              " (-9.415625006855722, 'inch'),\n",
              " (-9.415090777849825, 'bankruptci'),\n",
              " (-9.415015865305765, 'merit'),\n",
              " (-9.414431445983837, 'theater'),\n",
              " (-9.414224845177696, 'univers california'),\n",
              " (-9.412604373912167, 'downtown'),\n",
              " (-9.411250324417846, 'civic'),\n",
              " (-9.41071417468086, 'walter'),\n",
              " (-9.410432171399998, 'walk away'),\n",
              " (-9.409736020856034, 'would give'),\n",
              " (-9.409096648426708, 'wider'),\n",
              " (-9.409090814388104, 'walker'),\n",
              " (-9.408757528112293, 'pact'),\n",
              " (-9.408561393621966, 'atlant'),\n",
              " (-9.408369957688524, 'pink'),\n",
              " (-9.408206329908932, 'chief execut'),\n",
              " (-9.407527840084974, 'execut director'),\n",
              " (-9.407514092357419, 'chuck'),\n",
              " (-9.406845755049954, 'novel'),\n",
              " (-9.406320980471188, 'charit'),\n",
              " (-9.405610980743253, 'hike'),\n",
              " (-9.405499532845516, 'repress'),\n",
              " (-9.405143760324059, 'district court'),\n",
              " (-9.404899617931912, 'plung'),\n",
              " (-9.404558401525174, 'much less'),\n",
              " (-9.403671977834193, 'mr comey'),\n",
              " (-9.403544421350784, 'backlash'),\n",
              " (-9.403358110465437, 'last two'),\n",
              " (-9.403162584543937, 'pace'),\n",
              " (-9.402318309160517, 'flame'),\n",
              " (-9.401465524972652, 'bureaucraci'),\n",
              " (-9.40101666397021, 'flat'),\n",
              " (-9.40088637468133, 'tenur'),\n",
              " (-9.40088188328788, 'last summer'),\n",
              " (-9.399720455358164, 'risen'),\n",
              " (-9.399176615610896, 'repeal'),\n",
              " (-9.399007280262406, 'australian'),\n",
              " (-9.398656981779657, 'devot'),\n",
              " (-9.39834215315355, 'therapi'),\n",
              " (-9.397937656813653, 'fantasi'),\n",
              " (-9.39790262185809, 'foreign govern'),\n",
              " (-9.39710608933038, 'state govern'),\n",
              " (-9.396947887169535, 'enthusiast'),\n",
              " (-9.39650644920689, 'would requir'),\n",
              " (-9.396192306643584, 'law school'),\n",
              " (-9.395904900436744, 'loyal'),\n",
              " (-9.395876426374668, 'someon els'),\n",
              " (-9.395570747936922, 'roll back'),\n",
              " (-9.394578040714702, 'three time'),\n",
              " (-9.39393913218435, 'thrill'),\n",
              " (-9.39292696635069, 'hamilton'),\n",
              " (-9.392674455075058, 'kansa'),\n",
              " (-9.392562475908266, 'mourn'),\n",
              " (-9.391991096758138, 'anniversari'),\n",
              " (-9.391087372055749, 'height'),\n",
              " (-9.39028747220787, 'guidelin'),\n",
              " (-9.38981032856272, 'ail'),\n",
              " (-9.389555960208856, 'olymp'),\n",
              " (-9.389194456850612, 'press secretari'),\n",
              " (-9.388856035953923, 'contenti'),\n",
              " (-9.388631931594343, 'climb'),\n",
              " (-9.388358849582207, 'columbia'),\n",
              " (-9.388275816417108, 'denver'),\n",
              " (-9.38807629693898, 'crackdown'),\n",
              " (-9.387993067308207, 'morri'),\n",
              " (-9.387980634598815, 'faculti'),\n",
              " (-9.387493098770388, 'northeast'),\n",
              " (-9.386285031891434, 'briefli'),\n",
              " (-9.385981469727367, 'bipartisan'),\n",
              " (-9.3858790226549, 'fake news'),\n",
              " (-9.385450467022567, 'presid would'),\n",
              " (-9.385254866192241, 'viru'),\n",
              " (-9.385088460177752, 'clash'),\n",
              " (-9.384326281744972, 'gradual'),\n",
              " (-9.384217937952053, 'let us know'),\n",
              " (-9.383715104448074, 'uncomfort'),\n",
              " (-9.383353294106346, 'chest'),\n",
              " (-9.38317766274646, 'assumpt'),\n",
              " (-9.383170968193541, 'plea'),\n",
              " (-9.382838639272764, 'tide'),\n",
              " (-9.382731092858856, 'like mani'),\n",
              " (-9.382100955313229, 'state also'),\n",
              " (-9.38207739961256, 'forecast'),\n",
              " (-9.381523378806264, 'stab'),\n",
              " (-9.381408878773673, 'less like'),\n",
              " (-9.380281493915447, 'inclus'),\n",
              " (-9.379160650353214, 'expel'),\n",
              " (-9.379076210823843, 'new yorker'),\n",
              " (-9.379076210823843, 'yorker'),\n",
              " (-9.378927364884616, 'dismantl'),\n",
              " (-9.37890899007246, 'shower'),\n",
              " (-9.378881522503162, 'clearanc'),\n",
              " (-9.378147197499581, 'day later'),\n",
              " (-9.37801903956742, 'young man'),\n",
              " (-9.377654128170091, 'litig'),\n",
              " (-9.377629313980718, 'pa'),\n",
              " (-9.377430571627103, 'news confer'),\n",
              " (-9.377080582209057, 'health well'),\n",
              " (-9.3763373532852, 'pregnanc'),\n",
              " (-9.376198326935048, 'temporarili'),\n",
              " (-9.376100710834445, 'de lo'),\n",
              " (-9.375708756761394, 'european union'),\n",
              " (-9.375577570113181, 'trump republican'),\n",
              " (-9.375412121042555, 'elev'),\n",
              " (-9.375232585633313, 'trump call'),\n",
              " (-9.375126350957585, 'deadlin'),\n",
              " (-9.374936888190247, 'profess'),\n",
              " (-9.373986628145957, 'dutch'),\n",
              " (-9.373909905384382, 'chancellor'),\n",
              " (-9.373719166512975, 'humor'),\n",
              " (-9.372655370098764, 'tissu'),\n",
              " (-9.372560444192729, 'como'),\n",
              " (-9.372559703635101, 'array'),\n",
              " (-9.37246804516925, 'raw'),\n",
              " (-9.371758637417248, 'foreign minist'),\n",
              " (-9.371316236590777, 'chase'),\n",
              " (-9.371282190247083, 'gymnast'),\n",
              " (-9.371071366781608, 'birthday'),\n",
              " (-9.37095590321175, 'holder'),\n",
              " (-9.37078497603287, 'fragil'),\n",
              " (-9.370545144527481, 'outlook'),\n",
              " (-9.370338654748895, 'avenu'),\n",
              " (-9.367627598639244, 'ellison'),\n",
              " (-9.367614066073726, 'thailand'),\n",
              " (-9.366826368298879, 'trade agreement'),\n",
              " (-9.36604096122325, 'schweizer'),\n",
              " (-9.365186348255635, 'trump white'),\n",
              " (-9.364916408588996, 'ronald reagan'),\n",
              " (-9.363571861125394, 'literari'),\n",
              " (-9.363253175375442, 'sexual harass'),\n",
              " (-9.362744872123104, 'regulatori'),\n",
              " (-9.362544005301514, 'millenni'),\n",
              " (-9.361300188495978, 'peopl think'),\n",
              " (-9.36105448316773, 'tea parti'),\n",
              " (-9.36071897396083, 'telephon'),\n",
              " (-9.360601938129218, 'jewish state'),\n",
              " (-9.360426205767578, 'adversari'),\n",
              " (-9.360299531908574, 'boot'),\n",
              " (-9.36012032204545, 'na'),\n",
              " (-9.359584620931527, 'deleg'),\n",
              " (-9.35916429525634, 'float'),\n",
              " (-9.358465876791698, 'provoc'),\n",
              " (-9.358155863857915, 'introduct'),\n",
              " (-9.357854421985715, 'said statement'),\n",
              " (-9.357026830823244, 'provis'),\n",
              " (-9.356588272035793, 'equiti'),\n",
              " (-9.356488071823936, 'oscar'),\n",
              " (-9.356293046279651, 'egyptian'),\n",
              " (-9.35603850196978, 'contend'),\n",
              " (-9.355882967117036, 'unifi'),\n",
              " (-9.355649347978652, 'would allow'),\n",
              " (-9.35533590650715, 'bloc'),\n",
              " (-9.355287269701877, 'historian'),\n",
              " (-9.354832215827221, 'pursuit'),\n",
              " (-9.354429025315657, 'simon'),\n",
              " (-9.353903474483594, 'meal'),\n",
              " (-9.35336338268819, 'justin'),\n",
              " (-9.353316513731386, 'heritag'),\n",
              " (-9.35314251274729, 'coffe'),\n",
              " (-9.353011466193099, 'midst'),\n",
              " (-9.352885243711206, 'interior'),\n",
              " (-9.352719139127899, 'fenc'),\n",
              " (-9.35235354107424, 'take part'),\n",
              " (-9.352241808025726, 'diminish'),\n",
              " (-9.352176460412835, 'whip'),\n",
              " (-9.35188009070038, 'indiana'),\n",
              " (-9.351652752585663, 'resum'),\n",
              " (-9.351562570240919, 'municip'),\n",
              " (-9.35155288348898, 'fractur'),\n",
              " (-9.351472698603802, 'baghdad'),\n",
              " (-9.350729983806714, 'spain'),\n",
              " (-9.349724854807873, 'news media'),\n",
              " (-9.34953256014627, 'unanim'),\n",
              " (-9.349433886253196, 'battleground'),\n",
              " (-9.348499237629296, 'explicit'),\n",
              " (-9.348475052885387, 'recent month'),\n",
              " (-9.3484091020366, 'pat'),\n",
              " (-9.34838604135517, 'plead guilti'),\n",
              " (-9.347229702755941, 'includ one'),\n",
              " (-9.347017499075665, 'would make'),\n",
              " (-9.346724468391841, 'bail'),\n",
              " (-9.346298843052782, 'aaron'),\n",
              " (-9.346282352964648, 'dispatch'),\n",
              " (-9.346278249722944, 'unpopular'),\n",
              " (-9.346068230293932, 'bolster'),\n",
              " (-9.345944061692293, 'undergo'),\n",
              " (-9.345604029731145, 'bite'),\n",
              " (-9.345522212219088, 'six year'),\n",
              " (-9.345343062790477, 'palm beach'),\n",
              " (-9.344389646238941, 'enrol'),\n",
              " (-9.344389458408555, 'apocalyps'),\n",
              " (-9.344214502485823, 'flock'),\n",
              " (-9.344195480114895, 'pardon'),\n",
              " (-9.344180783633043, 'rd'),\n",
              " (-9.344053153743047, 'uncertain'),\n",
              " (-9.343857852773311, 'nationwid'),\n",
              " (-9.343560933190822, 'stamp'),\n",
              " (-9.342967277082607, 'make decis'),\n",
              " (-9.342584584827987, 'capitol'),\n",
              " (-9.34222252887266, 'nonetheless'),\n",
              " (-9.342039255924416, 'ballist missil'),\n",
              " (-9.34135215916401, 'sister'),\n",
              " (-9.341351507243562, 'greec'),\n",
              " (-9.341311808304463, 'ritual'),\n",
              " (-9.341205433049794, 'news agenc'),\n",
              " (-9.340829880081891, 'incent'),\n",
              " (-9.340677584198064, 'firmli'),\n",
              " (-9.34011236008323, 'mani way'),\n",
              " (-9.339925591427505, 'unaccept'),\n",
              " (-9.339827053545926, 'express concern'),\n",
              " (-9.3395357659795, 'evangel'),\n",
              " (-9.339349468665892, 'harbor'),\n",
              " (-9.339222143232613, 'chairwoman'),\n",
              " (-9.339192701734529, 'said need'),\n",
              " (-9.339038608121802, 'transgend'),\n",
              " (-9.338919555915986, 'lowest'),\n",
              " (-9.337225116983184, 'sarah'),\n",
              " (-9.33717079020385, 'polic said'),\n",
              " (-9.3371465582044, 'dawn'),\n",
              " (-9.33670038691413, 'look forward'),\n",
              " (-9.336596997105687, 'pit'),\n",
              " (-9.336269129087015, 'influenti'),\n",
              " (-9.336232328320769, 'feder court'),\n",
              " (-9.336198885084992, 'pois'),\n",
              " (-9.335970119047605, 'minim'),\n",
              " (-9.335869451622413, 'christoph'),\n",
              " (-9.335200114857821, 'barrier'),\n",
              " (-9.334873132620864, 'find way'),\n",
              " (-9.33474411540969, 'manual'),\n",
              " (-9.33469671231947, 'enterpris'),\n",
              " (-9.33444534636347, 'literatur'),\n",
              " (-9.33439772677473, 'broad'),\n",
              " (-9.33405145616891, 'shrink'),\n",
              " (-9.333821279356126, 'state would'),\n",
              " (-9.333329532953492, 'highway'),\n",
              " (-9.33279019267759, 'giuliani'),\n",
              " (-9.3318071934639, 'businessman'),\n",
              " (-9.331460013584827, 'fraudul'),\n",
              " (-9.331141381548475, 'acceler'),\n",
              " (-9.330983038065195, 'klein'),\n",
              " (-9.3303981805261, 'enforc offici'),\n",
              " (-9.329675558050859, 'slogan'),\n",
              " (-9.329305786075624, 'law enforc offici'),\n",
              " (-9.329243504395304, 'signatur'),\n",
              " (-9.329002888624638, 'supremacist'),\n",
              " (-9.328774950743748, 'champion'),\n",
              " (-9.327981430261794, 'econom growth'),\n",
              " (-9.327895008855593, 'critiqu'),\n",
              " (-9.32787527896413, 'boom'),\n",
              " (-9.327327970722113, 'erupt'),\n",
              " (-9.326736859764884, 'riski'),\n",
              " (-9.326378868757999, 'chronicl'),\n",
              " (-9.326361913368807, 'nearbi'),\n",
              " (-9.325908831611013, 'recruit'),\n",
              " (-9.325377499922244, 'howard'),\n",
              " (-9.324916827115754, 'state offici'),\n",
              " (-9.324755331726474, 'islamist'),\n",
              " (-9.324744162211275, 'would also'),\n",
              " (-9.3244367490562, 'first day'),\n",
              " (-9.324403480145651, 'detain'),\n",
              " (-9.32367933441583, 'said trump'),\n",
              " (-9.323678180312273, 'physician'),\n",
              " (-9.323496667508374, 'rural'),\n",
              " (-9.323359541633291, 'banner'),\n",
              " (-9.323331896254427, 'confin'),\n",
              " (-9.322346442900548, 'sophist'),\n",
              " (-9.322266779133047, 'mental health'),\n",
              " (-9.321971492989297, 'grate'),\n",
              " (-9.321752103093612, 'skip'),\n",
              " (-9.321160958781622, 'franci'),\n",
              " (-9.320977489980644, 'year sinc'),\n",
              " (-9.320917162111328, 'propon'),\n",
              " (-9.320673959005267, 'trump made'),\n",
              " (-9.320217937536597, 'transcript'),\n",
              " (-9.319483788135962, 'hay'),\n",
              " (-9.319445118809249, 'massacr'),\n",
              " (-9.318921768996695, 'flint'),\n",
              " (-9.318832458956607, 'gun violenc'),\n",
              " (-9.318664344953351, 'plaintiff'),\n",
              " (-9.318294568152334, 'absenc'),\n",
              " (-9.318275378635164, 'uber'),\n",
              " (-9.31816688599726, 'boycott'),\n",
              " (-9.317691779915787, 'royal'),\n",
              " (-9.31732099984805, 'chicken'),\n",
              " (-9.317311861082416, 'wed'),\n",
              " (-9.317143266472122, 'seattl'),\n",
              " (-9.31647293037457, 'santa'),\n",
              " (-9.316399576055582, 'junior'),\n",
              " (-9.316286815014482, 'cameron'),\n",
              " (-9.316258726742383, 'partnership'),\n",
              " (-9.315961216973115, 'feder judg'),\n",
              " (-9.31548574373845, 'batteri'),\n",
              " (-9.31537046446978, 'lo angel time'),\n",
              " (-9.31506913452944, 'tour'),\n",
              " (-9.314311631681061, 'recognit'),\n",
              " (-9.314267616915464, 'ventur'),\n",
              " (-9.314075540926236, 'build wall'),\n",
              " (-9.31381856600479, 'subway'),\n",
              " (-9.31361984530845, 'mr weiner'),\n",
              " (-9.31337456011898, 'duck'),\n",
              " (-9.313236294874644, 'one first'),\n",
              " (-9.31270706545169, 'anthem'),\n",
              " (-9.312577366329334, 'traffick'),\n",
              " (-9.311943462455423, 'state univers'),\n",
              " (-9.311922985551563, 'spike'),\n",
              " (-9.311906592718767, 'princ'),\n",
              " (-9.311857886696817, 'terri'),\n",
              " (-9.31147113858822, 'reckless'),\n",
              " (-9.31078302080032, 'said want'),\n",
              " (-9.310451593479518, 'orlando'),\n",
              " (-9.309835546246688, 'caution'),\n",
              " (-9.309452889923044, 'sue'),\n",
              " (-9.309381025919139, 'formerli'),\n",
              " (-9.309349703522443, 'stem'),\n",
              " (-9.309253466596351, 'exceed'),\n",
              " (-9.308722906468404, 'danc'),\n",
              " (-9.308521715298674, 'emperor'),\n",
              " (-9.308386685762148, 'hunger'),\n",
              " (-9.30819263770094, 'broker'),\n",
              " (-9.307852299765845, 'craft'),\n",
              " (-9.307498349853834, 'lab'),\n",
              " (-9.307308333793658, 'forest'),\n",
              " (-9.30700964646516, 'suck'),\n",
              " (-9.306827609705103, 'scrambl'),\n",
              " (-9.306680631425216, 'kunduz'),\n",
              " (-9.306579629687517, 'john mccain'),\n",
              " (-9.306096719542563, 'baltimor'),\n",
              " (-9.305802955949547, 'intim'),\n",
              " (-9.30558870695215, 'imprison'),\n",
              " (-9.305300292218341, 'squad'),\n",
              " (-9.303872585966996, 'singer'),\n",
              " (-9.303432419527578, 'persuad'),\n",
              " (-9.302842659766316, 'dust'),\n",
              " (-9.30283218813006, 'unveil'),\n",
              " (-9.302094958228146, 'reign'),\n",
              " (-9.30130016044528, 'john kerri'),\n",
              " (-9.301173217227102, 'overturn'),\n",
              " (-9.300947557101056, 'rail'),\n",
              " (-9.300748512140103, 'month later'),\n",
              " (-9.30056765575343, 'registr'),\n",
              " (-9.300525374358621, 'concret'),\n",
              " (-9.300448205716204, 'settl'),\n",
              " (-9.30042761542711, 'passag'),\n",
              " (-9.300141356943868, 'membership'),\n",
              " (-9.300128168055458, 'greek'),\n",
              " (-9.300041547129128, 'allegi'),\n",
              " (-9.299980268781422, 'intrigu'),\n",
              " (-9.299385671413507, 'charli'),\n",
              " (-9.298997297869702, 'warrior'),\n",
              " (-9.298632434595048, 'bore'),\n",
              " (-9.298622944958154, 'intensifi'),\n",
              " (-9.29861203733559, 'three month'),\n",
              " (-9.298192165280565, 'tap'),\n",
              " (-9.297926494097906, 'gun control'),\n",
              " (-9.297140556224901, 'bow'),\n",
              " (-9.296945469295753, 'todd'),\n",
              " (-9.296837131062684, 'egg'),\n",
              " (-9.296724674634392, 'percent percent'),\n",
              " (-9.296090562712312, 'wield'),\n",
              " (-9.295809061189653, 'shooter'),\n",
              " (-9.295803134845613, 'pitch'),\n",
              " (-9.295677707189137, 'one two'),\n",
              " (-9.29547385191643, 'rick'),\n",
              " (-9.29527478097793, 'monument'),\n",
              " (-9.294689883299352, 'orbit'),\n",
              " (-9.294397385490102, 'decept'),\n",
              " (-9.294308594735488, 'also said'),\n",
              " (-9.294009487387044, 'swept'),\n",
              " (-9.29389715549358, 'strongest'),\n",
              " (-9.293685120372224, 'north korean'),\n",
              " (-9.293269955219735, 'neanderth'),\n",
              " (-9.293026166841546, 'hour later'),\n",
              " (-9.292883422763811, 'poet'),\n",
              " (-9.292868279686877, 'lion'),\n",
              " (-9.292574192095831, 'weaken'),\n",
              " (-9.292439087897465, 'tell stori'),\n",
              " (-9.292089532176693, 'supervis'),\n",
              " (-9.291182617828818, 'vast major'),\n",
              " (-9.29107820001058, 'decad ago'),\n",
              " (-9.290708771210396, 'breitbart news'),\n",
              " (-9.290498899219871, 'framework'),\n",
              " (-9.28988398957895, 'brotherhood'),\n",
              " (-9.289692435382248, 'persist'),\n",
              " (-9.289659174712487, 'care act'),\n",
              " (-9.2891627921915, 'tune'),\n",
              " (-9.288049563272338, 'widget'),\n",
              " (-9.287367141373892, 'destabil'),\n",
              " (-9.287153866385372, 'ballist'),\n",
              " (-9.287043087005012, 'get rid'),\n",
              " (-9.286567481559915, 'grade'),\n",
              " (-9.285373066168312, 'contemporari'),\n",
              " (-9.284925147521312, 'next month'),\n",
              " (-9.284890607944787, 'norway'),\n",
              " (-9.284714893985122, 'reliev'),\n",
              " (-9.284614723848108, 'polic depart'),\n",
              " (-9.284533026215597, 'proport'),\n",
              " (-9.284513458754665, 'boundari'),\n",
              " (-9.284043793858888, 'innov'),\n",
              " (-9.283851904357343, 'polar'),\n",
              " (-9.283678240652975, 'philosophi'),\n",
              " (-9.283403114872383, 'agricultur'),\n",
              " (-9.283094952802886, 'dean'),\n",
              " (-9.282993866720922, 'oliv'),\n",
              " (-9.282972338804509, 'peer'),\n",
              " (-9.282819886168317, 'sentiment'),\n",
              " (-9.282433573930847, 'tourist'),\n",
              " ...]"
            ]
          },
          "metadata": {
            "tags": []
          },
          "execution_count": 75
        }
      ]
    },
    {
      "cell_type": "code",
      "metadata": {
        "id": "J1DFsEpjlRN4"
      },
      "source": [
        ""
      ],
      "execution_count": null,
      "outputs": []
    }
  ]
}