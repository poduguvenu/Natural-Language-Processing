{
 "cells": [
  {
   "cell_type": "markdown",
   "metadata": {},
   "source": [
    "# Word2Vec:\n",
    "In this specific Model, each word is basically represented as a vector of 32 or more dimensions instead of a single number\n",
    "    \n",
    "Here the semantic information and relation between different words is also preserrved"
   ]
  },
  {
   "cell_type": "markdown",
   "metadata": {},
   "source": [
    "## Import Required Libraries"
   ]
  },
  {
   "cell_type": "code",
   "execution_count": 1,
   "metadata": {
    "collapsed": true
   },
   "outputs": [
    {
     "name": "stdout",
     "output_type": "stream",
     "text": [
      "Requirement already up-to-date: gensim in c:\\users\\podug\\anaconda3\\lib\\site-packages (4.0.0)\n",
      "Requirement already satisfied, skipping upgrade: scipy>=0.18.1 in c:\\users\\podug\\anaconda3\\lib\\site-packages (from gensim) (1.5.0)\n",
      "Requirement already satisfied, skipping upgrade: smart-open>=1.8.1 in c:\\users\\podug\\anaconda3\\lib\\site-packages (from gensim) (5.0.0)\n",
      "Requirement already satisfied, skipping upgrade: Cython==0.29.21 in c:\\users\\podug\\anaconda3\\lib\\site-packages (from gensim) (0.29.21)\n",
      "Requirement already satisfied, skipping upgrade: numpy>=1.11.3 in c:\\users\\podug\\anaconda3\\lib\\site-packages (from gensim) (1.20.2)\n"
     ]
    }
   ],
   "source": [
    "!python -m pip install -U gensim"
   ]
  },
  {
   "cell_type": "code",
   "execution_count": 2,
   "metadata": {
    "collapsed": true
   },
   "outputs": [
    {
     "name": "stderr",
     "output_type": "stream",
     "text": [
      "C:\\Users\\podug\\anaconda3\\lib\\site-packages\\gensim\\similarities\\__init__.py:15: UserWarning: The gensim.similarities.levenshtein submodule is disabled, because the optional Levenshtein package <https://pypi.org/project/python-Levenshtein/> is unavailable. Install Levenhstein (e.g. `pip install python-Levenshtein`) to suppress this warning.\n",
      "  warnings.warn(msg)\n"
     ]
    }
   ],
   "source": [
    "from gensim.models import Word2Vec"
   ]
  },
  {
   "cell_type": "code",
   "execution_count": 3,
   "metadata": {},
   "outputs": [],
   "source": [
    "import nltk\n",
    "#from gensim.models import Word2Vec\n",
    "from nltk.corpus import stopwords\n",
    "import re"
   ]
  },
  {
   "cell_type": "markdown",
   "metadata": {},
   "source": [
    "## Data"
   ]
  },
  {
   "cell_type": "code",
   "execution_count": 28,
   "metadata": {},
   "outputs": [],
   "source": [
    "paragraph = \"\"\"I have three visions for India. In 3000 years of our history, people from all over \n",
    "               the world have come and invaded us, captured our lands, conquered our minds. \n",
    "               From Alexander onwards, the Greeks, the Turks, the Moguls, the Portuguese, the British,\n",
    "               the French, the Dutch, all of them came and looted us, took over what was ours. \n",
    "               Yet we have not done this to any other nation. We have not conquered anyone. \n",
    "               We have not grabbed their land, their culture, \n",
    "               their history and tried to enforce our way of life on them. \n",
    "               Why? Because we respect the freedom of others.That is why my \n",
    "               first vision is that of freedom. I believe that India got its first vision of \n",
    "               this in 1857, when we started the War of Independence. It is this freedom that\n",
    "               we must protect and nurture and build on. If we are not free, no one will respect us.\n",
    "               My second vision for India’s development. For fifty years we have been a developing nation.\n",
    "               It is time we see ourselves as a developed nation. We are among the top 5 nations of the world\n",
    "               in terms of GDP. We have a 10 percent growth rate in most areas. Our poverty levels are falling.\n",
    "               Our achievements are being globally recognised today. Yet we lack the self-confidence to\n",
    "               see ourselves as a developed nation, self-reliant and self-assured. Isn’t this incorrect?\n",
    "               I have a third vision. India must stand up to the world. Because I believe that unless India \n",
    "               stands up to the world, no one will respect us. Only strength respects strength. We must be \n",
    "               strong not only as a military power but also as an economic power. Both must go hand-in-hand. \n",
    "               My good fortune was to have worked with three great minds. Dr. Vikram Sarabhai of the Dept. of \n",
    "               space, Professor Satish Dhawan, who succeeded him and Dr. Brahm Prakash, father of nuclear material.\n",
    "               I was lucky to have worked with all three of them closely and consider this the great opportunity of my life. \n",
    "               I see four milestones in my career\"\"\"\n",
    "               \n"
   ]
  },
  {
   "cell_type": "markdown",
   "metadata": {},
   "source": [
    "## Data Preprocessing"
   ]
  },
  {
   "cell_type": "code",
   "execution_count": 36,
   "metadata": {},
   "outputs": [
    {
     "data": {
      "text/plain": [
       "'I have three visions for India. In 3000 years of our history, people from all over                 the world have come and invaded us, captured our lands, conquered our minds.                 From Alexander onwards, the Greeks, the Turks, the Moguls, the Portuguese, the British,                the French, the Dutch, all of them came and looted us, took over what was ours.                 Yet we have not done this to any other nation. We have not conquered anyone.                 We have not grabbed their land, their culture,                 their history and tried to enforce our way of life on them.                 Why? Because we respect the freedom of others.That is why my                 first vision is that of freedom. I believe that India got its first vision of                 this in 1857, when we started the War of Independence. It is this freedom that                we must protect and nurture and build on. If we are not free, no one will respect us.                My second vision for India’s development. For fifty years we have been a developing nation.                It is time we see ourselves as a developed nation. We are among the top 5 nations of the world                in terms of GDP. We have a 10 percent growth rate in most areas. Our poverty levels are falling.                Our achievements are being globally recognised today. Yet we lack the self-confidence to                see ourselves as a developed nation, self-reliant and self-assured. Isn’t this incorrect?                I have a third vision. India must stand up to the world. Because I believe that unless India                 stands up to the world, no one will respect us. Only strength respects strength. We must be                 strong not only as a military power but also as an economic power. Both must go hand-in-hand.                 My good fortune was to have worked with three great minds. Dr. Vikram Sarabhai of the Dept. of                 space, Professor Satish Dhawan, who succeeded him and Dr. Brahm Prakash, father of nuclear material.                I was lucky to have worked with all three of them closely and consider this the great opportunity of my life.                 I see four milestones in my career'"
      ]
     },
     "execution_count": 36,
     "metadata": {},
     "output_type": "execute_result"
    }
   ],
   "source": [
    "text = re.sub(r'\\n', ' ', paragraph)\n",
    "text"
   ]
  },
  {
   "cell_type": "code",
   "execution_count": 37,
   "metadata": {},
   "outputs": [
    {
     "data": {
      "text/plain": [
       "'I have three visions for India. In      years of our history, people from all over                 the world have come and invaded us, captured our lands, conquered our minds.                 From Alexander onwards, the Greeks, the Turks, the Moguls, the Portuguese, the British,                the French, the Dutch, all of them came and looted us, took over what was ours.                 Yet we have not done this to any other nation. We have not conquered anyone.                 We have not grabbed their land, their culture,                 their history and tried to enforce our way of life on them.                 Why? Because we respect the freedom of others.That is why my                 first vision is that of freedom. I believe that India got its first vision of                 this in     , when we started the War of Independence. It is this freedom that                we must protect and nurture and build on. If we are not free, no one will respect us.                My second vision for India’s development. For fifty years we have been a developing nation.                It is time we see ourselves as a developed nation. We are among the top   nations of the world                in terms of GDP. We have a    percent growth rate in most areas. Our poverty levels are falling.                Our achievements are being globally recognised today. Yet we lack the self-confidence to                see ourselves as a developed nation, self-reliant and self-assured. Isn’t this incorrect?                I have a third vision. India must stand up to the world. Because I believe that unless India                 stands up to the world, no one will respect us. Only strength respects strength. We must be                 strong not only as a military power but also as an economic power. Both must go hand-in-hand.                 My good fortune was to have worked with three great minds. Dr. Vikram Sarabhai of the Dept. of                 space, Professor Satish Dhawan, who succeeded him and Dr. Brahm Prakash, father of nuclear material.                I was lucky to have worked with all three of them closely and consider this the great opportunity of my life.                 I see four milestones in my career'"
      ]
     },
     "execution_count": 37,
     "metadata": {},
     "output_type": "execute_result"
    }
   ],
   "source": [
    "text = re.sub(r'\\d', ' ', text)\n",
    "text"
   ]
  },
  {
   "cell_type": "code",
   "execution_count": 11,
   "metadata": {},
   "outputs": [],
   "source": [
    "# Preprocessing\n",
    "# text = re.sub(r'\\[[0-9]*\\]', ' ', paragraph)\n",
    "# text"
   ]
  },
  {
   "cell_type": "code",
   "execution_count": 38,
   "metadata": {},
   "outputs": [
    {
     "data": {
      "text/plain": [
       "'i have three visions for india. in      years of our history, people from all over                 the world have come and invaded us, captured our lands, conquered our minds.                 from alexander onwards, the greeks, the turks, the moguls, the portuguese, the british,                the french, the dutch, all of them came and looted us, took over what was ours.                 yet we have not done this to any other nation. we have not conquered anyone.                 we have not grabbed their land, their culture,                 their history and tried to enforce our way of life on them.                 why? because we respect the freedom of others.that is why my                 first vision is that of freedom. i believe that india got its first vision of                 this in     , when we started the war of independence. it is this freedom that                we must protect and nurture and build on. if we are not free, no one will respect us.                my second vision for india’s development. for fifty years we have been a developing nation.                it is time we see ourselves as a developed nation. we are among the top   nations of the world                in terms of gdp. we have a    percent growth rate in most areas. our poverty levels are falling.                our achievements are being globally recognised today. yet we lack the self-confidence to                see ourselves as a developed nation, self-reliant and self-assured. isn’t this incorrect?                i have a third vision. india must stand up to the world. because i believe that unless india                 stands up to the world, no one will respect us. only strength respects strength. we must be                 strong not only as a military power but also as an economic power. both must go hand-in-hand.                 my good fortune was to have worked with three great minds. dr. vikram sarabhai of the dept. of                 space, professor satish dhawan, who succeeded him and dr. brahm prakash, father of nuclear material.                i was lucky to have worked with all three of them closely and consider this the great opportunity of my life.                 i see four milestones in my career'"
      ]
     },
     "execution_count": 38,
     "metadata": {},
     "output_type": "execute_result"
    }
   ],
   "source": [
    "text = text.lower()\n",
    "text"
   ]
  },
  {
   "cell_type": "code",
   "execution_count": 39,
   "metadata": {},
   "outputs": [
    {
     "data": {
      "text/plain": [
       "'i have three visions for india. in years of our history, people from all over the world have come and invaded us, captured our lands, conquered our minds. from alexander onwards, the greeks, the turks, the moguls, the portuguese, the british, the french, the dutch, all of them came and looted us, took over what was ours. yet we have not done this to any other nation. we have not conquered anyone. we have not grabbed their land, their culture, their history and tried to enforce our way of life on them. why? because we respect the freedom of others.that is why my first vision is that of freedom. i believe that india got its first vision of this in , when we started the war of independence. it is this freedom that we must protect and nurture and build on. if we are not free, no one will respect us. my second vision for india’s development. for fifty years we have been a developing nation. it is time we see ourselves as a developed nation. we are among the top nations of the world in terms of gdp. we have a percent growth rate in most areas. our poverty levels are falling. our achievements are being globally recognised today. yet we lack the self-confidence to see ourselves as a developed nation, self-reliant and self-assured. isn’t this incorrect? i have a third vision. india must stand up to the world. because i believe that unless india stands up to the world, no one will respect us. only strength respects strength. we must be strong not only as a military power but also as an economic power. both must go hand-in-hand. my good fortune was to have worked with three great minds. dr. vikram sarabhai of the dept. of space, professor satish dhawan, who succeeded him and dr. brahm prakash, father of nuclear material. i was lucky to have worked with all three of them closely and consider this the great opportunity of my life. i see four milestones in my career'"
      ]
     },
     "execution_count": 39,
     "metadata": {},
     "output_type": "execute_result"
    }
   ],
   "source": [
    "text = re.sub(r'\\s+', ' ', text)\n",
    "text"
   ]
  },
  {
   "cell_type": "markdown",
   "metadata": {},
   "source": [
    "## Preparing the Dataset"
   ]
  },
  {
   "cell_type": "code",
   "execution_count": 41,
   "metadata": {
    "scrolled": true
   },
   "outputs": [
    {
     "data": {
      "text/plain": [
       "['i have three visions for india.',\n",
       " 'in years of our history, people from all over the world have come and invaded us, captured our lands, conquered our minds.',\n",
       " 'from alexander onwards, the greeks, the turks, the moguls, the portuguese, the british, the french, the dutch, all of them came and looted us, took over what was ours.',\n",
       " 'yet we have not done this to any other nation.',\n",
       " 'we have not conquered anyone.',\n",
       " 'we have not grabbed their land, their culture, their history and tried to enforce our way of life on them.',\n",
       " 'why?',\n",
       " 'because we respect the freedom of others.that is why my first vision is that of freedom.',\n",
       " 'i believe that india got its first vision of this in , when we started the war of independence.',\n",
       " 'it is this freedom that we must protect and nurture and build on.',\n",
       " 'if we are not free, no one will respect us.',\n",
       " 'my second vision for india’s development.',\n",
       " 'for fifty years we have been a developing nation.',\n",
       " 'it is time we see ourselves as a developed nation.',\n",
       " 'we are among the top nations of the world in terms of gdp.',\n",
       " 'we have a percent growth rate in most areas.',\n",
       " 'our poverty levels are falling.',\n",
       " 'our achievements are being globally recognised today.',\n",
       " 'yet we lack the self-confidence to see ourselves as a developed nation, self-reliant and self-assured.',\n",
       " 'isn’t this incorrect?',\n",
       " 'i have a third vision.',\n",
       " 'india must stand up to the world.',\n",
       " 'because i believe that unless india stands up to the world, no one will respect us.',\n",
       " 'only strength respects strength.',\n",
       " 'we must be strong not only as a military power but also as an economic power.',\n",
       " 'both must go hand-in-hand.',\n",
       " 'my good fortune was to have worked with three great minds.',\n",
       " 'dr. vikram sarabhai of the dept.',\n",
       " 'of space, professor satish dhawan, who succeeded him and dr. brahm prakash, father of nuclear material.',\n",
       " 'i was lucky to have worked with all three of them closely and consider this the great opportunity of my life.',\n",
       " 'i see four milestones in my career']"
      ]
     },
     "execution_count": 41,
     "metadata": {},
     "output_type": "execute_result"
    }
   ],
   "source": [
    "# Preparing the dataset\n",
    "sentences = nltk.sent_tokenize(text)                            \n",
    "sentences"
   ]
  },
  {
   "cell_type": "code",
   "execution_count": 42,
   "metadata": {
    "scrolled": true
   },
   "outputs": [
    {
     "data": {
      "text/plain": [
       "['i have three visions for india ',\n",
       " 'in years of our history  people from all over the world have come and invaded us  captured our lands  conquered our minds ',\n",
       " 'from alexander onwards  the greeks  the turks  the moguls  the portuguese  the british  the french  the dutch  all of them came and looted us  took over what was ours ',\n",
       " 'yet we have not done this to any other nation ',\n",
       " 'we have not conquered anyone ',\n",
       " 'we have not grabbed their land  their culture  their history and tried to enforce our way of life on them ',\n",
       " 'why ',\n",
       " 'because we respect the freedom of others that is why my first vision is that of freedom ',\n",
       " 'i believe that india got its first vision of this in   when we started the war of independence ',\n",
       " 'it is this freedom that we must protect and nurture and build on ',\n",
       " 'if we are not free  no one will respect us ',\n",
       " 'my second vision for india s development ',\n",
       " 'for fifty years we have been a developing nation ',\n",
       " 'it is time we see ourselves as a developed nation ',\n",
       " 'we are among the top nations of the world in terms of gdp ',\n",
       " 'we have a percent growth rate in most areas ',\n",
       " 'our poverty levels are falling ',\n",
       " 'our achievements are being globally recognised today ',\n",
       " 'yet we lack the self confidence to see ourselves as a developed nation  self reliant and self assured ',\n",
       " 'isn t this incorrect ',\n",
       " 'i have a third vision ',\n",
       " 'india must stand up to the world ',\n",
       " 'because i believe that unless india stands up to the world  no one will respect us ',\n",
       " 'only strength respects strength ',\n",
       " 'we must be strong not only as a military power but also as an economic power ',\n",
       " 'both must go hand in hand ',\n",
       " 'my good fortune was to have worked with three great minds ',\n",
       " 'dr  vikram sarabhai of the dept ',\n",
       " 'of space  professor satish dhawan  who succeeded him and dr  brahm prakash  father of nuclear material ',\n",
       " 'i was lucky to have worked with all three of them closely and consider this the great opportunity of my life ',\n",
       " 'i see four milestones in my career']"
      ]
     },
     "execution_count": 42,
     "metadata": {},
     "output_type": "execute_result"
    }
   ],
   "source": [
    "sentences = [re.sub('[^a-z]', ' ', sentence) for sentence in sentences]\n",
    "sentences"
   ]
  },
  {
   "cell_type": "code",
   "execution_count": 43,
   "metadata": {},
   "outputs": [
    {
     "data": {
      "text/plain": [
       "[['i', 'have', 'three', 'visions', 'for', 'india'],\n",
       " ['in',\n",
       "  'years',\n",
       "  'of',\n",
       "  'our',\n",
       "  'history',\n",
       "  'people',\n",
       "  'from',\n",
       "  'all',\n",
       "  'over',\n",
       "  'the',\n",
       "  'world',\n",
       "  'have',\n",
       "  'come',\n",
       "  'and',\n",
       "  'invaded',\n",
       "  'us',\n",
       "  'captured',\n",
       "  'our',\n",
       "  'lands',\n",
       "  'conquered',\n",
       "  'our',\n",
       "  'minds'],\n",
       " ['from',\n",
       "  'alexander',\n",
       "  'onwards',\n",
       "  'the',\n",
       "  'greeks',\n",
       "  'the',\n",
       "  'turks',\n",
       "  'the',\n",
       "  'moguls',\n",
       "  'the',\n",
       "  'portuguese',\n",
       "  'the',\n",
       "  'british',\n",
       "  'the',\n",
       "  'french',\n",
       "  'the',\n",
       "  'dutch',\n",
       "  'all',\n",
       "  'of',\n",
       "  'them',\n",
       "  'came',\n",
       "  'and',\n",
       "  'looted',\n",
       "  'us',\n",
       "  'took',\n",
       "  'over',\n",
       "  'what',\n",
       "  'was',\n",
       "  'ours'],\n",
       " ['yet', 'we', 'have', 'not', 'done', 'this', 'to', 'any', 'other', 'nation'],\n",
       " ['we', 'have', 'not', 'conquered', 'anyone'],\n",
       " ['we',\n",
       "  'have',\n",
       "  'not',\n",
       "  'grabbed',\n",
       "  'their',\n",
       "  'land',\n",
       "  'their',\n",
       "  'culture',\n",
       "  'their',\n",
       "  'history',\n",
       "  'and',\n",
       "  'tried',\n",
       "  'to',\n",
       "  'enforce',\n",
       "  'our',\n",
       "  'way',\n",
       "  'of',\n",
       "  'life',\n",
       "  'on',\n",
       "  'them'],\n",
       " ['why'],\n",
       " ['because',\n",
       "  'we',\n",
       "  'respect',\n",
       "  'the',\n",
       "  'freedom',\n",
       "  'of',\n",
       "  'others',\n",
       "  'that',\n",
       "  'is',\n",
       "  'why',\n",
       "  'my',\n",
       "  'first',\n",
       "  'vision',\n",
       "  'is',\n",
       "  'that',\n",
       "  'of',\n",
       "  'freedom'],\n",
       " ['i',\n",
       "  'believe',\n",
       "  'that',\n",
       "  'india',\n",
       "  'got',\n",
       "  'its',\n",
       "  'first',\n",
       "  'vision',\n",
       "  'of',\n",
       "  'this',\n",
       "  'in',\n",
       "  'when',\n",
       "  'we',\n",
       "  'started',\n",
       "  'the',\n",
       "  'war',\n",
       "  'of',\n",
       "  'independence'],\n",
       " ['it',\n",
       "  'is',\n",
       "  'this',\n",
       "  'freedom',\n",
       "  'that',\n",
       "  'we',\n",
       "  'must',\n",
       "  'protect',\n",
       "  'and',\n",
       "  'nurture',\n",
       "  'and',\n",
       "  'build',\n",
       "  'on'],\n",
       " ['if', 'we', 'are', 'not', 'free', 'no', 'one', 'will', 'respect', 'us'],\n",
       " ['my', 'second', 'vision', 'for', 'india', 's', 'development'],\n",
       " ['for', 'fifty', 'years', 'we', 'have', 'been', 'a', 'developing', 'nation'],\n",
       " ['it',\n",
       "  'is',\n",
       "  'time',\n",
       "  'we',\n",
       "  'see',\n",
       "  'ourselves',\n",
       "  'as',\n",
       "  'a',\n",
       "  'developed',\n",
       "  'nation'],\n",
       " ['we',\n",
       "  'are',\n",
       "  'among',\n",
       "  'the',\n",
       "  'top',\n",
       "  'nations',\n",
       "  'of',\n",
       "  'the',\n",
       "  'world',\n",
       "  'in',\n",
       "  'terms',\n",
       "  'of',\n",
       "  'gdp'],\n",
       " ['we', 'have', 'a', 'percent', 'growth', 'rate', 'in', 'most', 'areas'],\n",
       " ['our', 'poverty', 'levels', 'are', 'falling'],\n",
       " ['our', 'achievements', 'are', 'being', 'globally', 'recognised', 'today'],\n",
       " ['yet',\n",
       "  'we',\n",
       "  'lack',\n",
       "  'the',\n",
       "  'self',\n",
       "  'confidence',\n",
       "  'to',\n",
       "  'see',\n",
       "  'ourselves',\n",
       "  'as',\n",
       "  'a',\n",
       "  'developed',\n",
       "  'nation',\n",
       "  'self',\n",
       "  'reliant',\n",
       "  'and',\n",
       "  'self',\n",
       "  'assured'],\n",
       " ['isn', 't', 'this', 'incorrect'],\n",
       " ['i', 'have', 'a', 'third', 'vision'],\n",
       " ['india', 'must', 'stand', 'up', 'to', 'the', 'world'],\n",
       " ['because',\n",
       "  'i',\n",
       "  'believe',\n",
       "  'that',\n",
       "  'unless',\n",
       "  'india',\n",
       "  'stands',\n",
       "  'up',\n",
       "  'to',\n",
       "  'the',\n",
       "  'world',\n",
       "  'no',\n",
       "  'one',\n",
       "  'will',\n",
       "  'respect',\n",
       "  'us'],\n",
       " ['only', 'strength', 'respects', 'strength'],\n",
       " ['we',\n",
       "  'must',\n",
       "  'be',\n",
       "  'strong',\n",
       "  'not',\n",
       "  'only',\n",
       "  'as',\n",
       "  'a',\n",
       "  'military',\n",
       "  'power',\n",
       "  'but',\n",
       "  'also',\n",
       "  'as',\n",
       "  'an',\n",
       "  'economic',\n",
       "  'power'],\n",
       " ['both', 'must', 'go', 'hand', 'in', 'hand'],\n",
       " ['my',\n",
       "  'good',\n",
       "  'fortune',\n",
       "  'was',\n",
       "  'to',\n",
       "  'have',\n",
       "  'worked',\n",
       "  'with',\n",
       "  'three',\n",
       "  'great',\n",
       "  'minds'],\n",
       " ['dr', 'vikram', 'sarabhai', 'of', 'the', 'dept'],\n",
       " ['of',\n",
       "  'space',\n",
       "  'professor',\n",
       "  'satish',\n",
       "  'dhawan',\n",
       "  'who',\n",
       "  'succeeded',\n",
       "  'him',\n",
       "  'and',\n",
       "  'dr',\n",
       "  'brahm',\n",
       "  'prakash',\n",
       "  'father',\n",
       "  'of',\n",
       "  'nuclear',\n",
       "  'material'],\n",
       " ['i',\n",
       "  'was',\n",
       "  'lucky',\n",
       "  'to',\n",
       "  'have',\n",
       "  'worked',\n",
       "  'with',\n",
       "  'all',\n",
       "  'three',\n",
       "  'of',\n",
       "  'them',\n",
       "  'closely',\n",
       "  'and',\n",
       "  'consider',\n",
       "  'this',\n",
       "  'the',\n",
       "  'great',\n",
       "  'opportunity',\n",
       "  'of',\n",
       "  'my',\n",
       "  'life'],\n",
       " ['i', 'see', 'four', 'milestones', 'in', 'my', 'career']]"
      ]
     },
     "execution_count": 43,
     "metadata": {},
     "output_type": "execute_result"
    }
   ],
   "source": [
    "sentences = [nltk.word_tokenize(sentence) for sentence in sentences]\n",
    "sentences"
   ]
  },
  {
   "cell_type": "code",
   "execution_count": 44,
   "metadata": {
    "scrolled": true
   },
   "outputs": [
    {
     "data": {
      "text/plain": [
       "[['three', 'visions', 'india'],\n",
       " ['years',\n",
       "  'history',\n",
       "  'people',\n",
       "  'world',\n",
       "  'come',\n",
       "  'invaded',\n",
       "  'us',\n",
       "  'captured',\n",
       "  'lands',\n",
       "  'conquered',\n",
       "  'minds'],\n",
       " ['alexander',\n",
       "  'onwards',\n",
       "  'greeks',\n",
       "  'turks',\n",
       "  'moguls',\n",
       "  'portuguese',\n",
       "  'british',\n",
       "  'french',\n",
       "  'dutch',\n",
       "  'came',\n",
       "  'looted',\n",
       "  'us',\n",
       "  'took'],\n",
       " ['yet', 'done', 'nation'],\n",
       " ['conquered', 'anyone'],\n",
       " ['grabbed', 'land', 'culture', 'history', 'tried', 'enforce', 'way', 'life'],\n",
       " [],\n",
       " ['respect', 'freedom', 'others', 'first', 'vision', 'freedom'],\n",
       " ['believe',\n",
       "  'india',\n",
       "  'got',\n",
       "  'first',\n",
       "  'vision',\n",
       "  'started',\n",
       "  'war',\n",
       "  'independence'],\n",
       " ['freedom', 'must', 'protect', 'nurture', 'build'],\n",
       " ['free', 'one', 'respect', 'us'],\n",
       " ['second', 'vision', 'india', 'development'],\n",
       " ['fifty', 'years', 'developing', 'nation'],\n",
       " ['time', 'see', 'developed', 'nation'],\n",
       " ['among', 'top', 'nations', 'world', 'terms', 'gdp'],\n",
       " ['percent', 'growth', 'rate', 'areas'],\n",
       " ['poverty', 'levels', 'falling'],\n",
       " ['achievements', 'globally', 'recognised', 'today'],\n",
       " ['yet',\n",
       "  'lack',\n",
       "  'self',\n",
       "  'confidence',\n",
       "  'see',\n",
       "  'developed',\n",
       "  'nation',\n",
       "  'self',\n",
       "  'reliant',\n",
       "  'self',\n",
       "  'assured'],\n",
       " ['incorrect'],\n",
       " ['third', 'vision'],\n",
       " ['india', 'must', 'stand', 'world'],\n",
       " ['believe', 'unless', 'india', 'stands', 'world', 'one', 'respect', 'us'],\n",
       " ['strength', 'respects', 'strength'],\n",
       " ['must', 'strong', 'military', 'power', 'also', 'economic', 'power'],\n",
       " ['must', 'go', 'hand', 'hand'],\n",
       " ['good', 'fortune', 'worked', 'three', 'great', 'minds'],\n",
       " ['dr', 'vikram', 'sarabhai', 'dept'],\n",
       " ['space',\n",
       "  'professor',\n",
       "  'satish',\n",
       "  'dhawan',\n",
       "  'succeeded',\n",
       "  'dr',\n",
       "  'brahm',\n",
       "  'prakash',\n",
       "  'father',\n",
       "  'nuclear',\n",
       "  'material'],\n",
       " ['lucky',\n",
       "  'worked',\n",
       "  'three',\n",
       "  'closely',\n",
       "  'consider',\n",
       "  'great',\n",
       "  'opportunity',\n",
       "  'life'],\n",
       " ['see', 'four', 'milestones', 'career']]"
      ]
     },
     "execution_count": 44,
     "metadata": {},
     "output_type": "execute_result"
    }
   ],
   "source": [
    "for i in range(len(sentences)):\n",
    "    sentences[i] = [word for word in sentences[i] if word not in stopwords.words('english')]\n",
    "\n",
    "sentences"
   ]
  },
  {
   "cell_type": "markdown",
   "metadata": {},
   "source": [
    "## Model Training"
   ]
  },
  {
   "cell_type": "code",
   "execution_count": 45,
   "metadata": {},
   "outputs": [
    {
     "data": {
      "text/plain": [
       "<gensim.models.word2vec.Word2Vec at 0x1a582d288b0>"
      ]
     },
     "execution_count": 45,
     "metadata": {},
     "output_type": "execute_result"
    }
   ],
   "source": [
    "# Training the `Word2Vec` model\n",
    "model = Word2Vec(sentences, min_count=1)   \n",
    "model"
   ]
  },
  {
   "cell_type": "markdown",
   "metadata": {},
   "source": [
    "## Finding word vectors and similar words"
   ]
  },
  {
   "cell_type": "code",
   "execution_count": 46,
   "metadata": {},
   "outputs": [
    {
     "data": {
      "text/plain": [
       "array([ 6.9852080e-03, -2.1204281e-04, -7.9374900e-03,  8.8902041e-03,\n",
       "       -8.5528670e-03,  5.5400082e-03,  6.4853681e-03,  9.9182036e-04,\n",
       "       -8.7008504e-03,  6.1555658e-03, -7.8410599e-03, -5.0285249e-03,\n",
       "        9.6155163e-03, -8.2793590e-03, -7.6231202e-03, -4.9091713e-03,\n",
       "        3.4547341e-03,  1.9052629e-03, -5.5474243e-03, -3.2866518e-03,\n",
       "        8.5909320e-03,  9.7740451e-03,  9.9283652e-03,  1.0364250e-03,\n",
       "        4.0446627e-03,  1.3691436e-03,  1.6582930e-03,  4.8375973e-03,\n",
       "        2.2001937e-03,  2.9239382e-04, -3.1535523e-03, -6.5199574e-03,\n",
       "        8.0082677e-03, -5.9820400e-03,  2.7835974e-03, -9.2409237e-04,\n",
       "       -3.6512166e-03, -4.9483115e-03,  3.2192718e-03, -5.8657527e-03,\n",
       "       -7.4854456e-03, -2.6547485e-03,  4.6744272e-03,  6.0570808e-03,\n",
       "       -1.4510229e-03,  7.2954991e-03, -7.6043718e-03, -4.7404571e-03,\n",
       "       -7.8410963e-03, -6.0443110e-03,  7.3079062e-03, -9.2902146e-03,\n",
       "       -8.6632138e-03, -9.8171178e-03,  9.2143631e-03, -2.6553201e-03,\n",
       "        9.9514145e-04, -6.1310595e-03, -2.5364531e-03,  7.8765777e-05,\n",
       "       -2.5105763e-03, -7.3658652e-03, -6.1861076e-03,  2.5314151e-03,\n",
       "       -9.5133027e-03,  1.1612629e-03, -1.9959633e-03,  8.2816612e-03,\n",
       "       -4.0532355e-04,  6.2246039e-03, -7.1009165e-03, -7.5576138e-03,\n",
       "        5.5541340e-03,  9.5240946e-04, -5.0717345e-03, -2.6466709e-03,\n",
       "        8.7699406e-03, -9.1885226e-03, -3.6853489e-03,  9.9433376e-04,\n",
       "       -2.1294008e-04,  9.5292218e-03, -1.9498657e-03, -7.0800399e-03,\n",
       "       -7.7026342e-03, -9.9113034e-03, -7.8080138e-03, -6.0333805e-03,\n",
       "       -5.9445756e-03, -1.4045619e-03, -5.2164879e-04, -4.7044274e-03,\n",
       "        2.1344479e-03,  3.8788181e-03,  9.0483995e-03, -4.6436950e-03,\n",
       "        5.1399567e-03,  7.2443788e-03, -3.7662347e-03, -7.4540079e-03],\n",
       "      dtype=float32)"
      ]
     },
     "execution_count": 46,
     "metadata": {},
     "output_type": "execute_result"
    }
   ],
   "source": [
    "# Finding word vectors\n",
    "vector = model.wv['war']\n",
    "vector"
   ]
  },
  {
   "cell_type": "code",
   "execution_count": 47,
   "metadata": {},
   "outputs": [
    {
     "data": {
      "text/plain": [
       "[('see', 0.24005356431007385),\n",
       " ('world', 0.2015748769044876),\n",
       " ('tried', 0.19460541009902954),\n",
       " ('grabbed', 0.1769956648349762),\n",
       " ('dr', 0.15795795619487762),\n",
       " ('british', 0.1579323559999466),\n",
       " ('among', 0.15636810660362244),\n",
       " ('satish', 0.15235748887062073),\n",
       " ('space', 0.14347125589847565),\n",
       " ('years', 0.13799333572387695)]"
      ]
     },
     "execution_count": 47,
     "metadata": {},
     "output_type": "execute_result"
    }
   ],
   "source": [
    "# Most similar words\n",
    "similar = model.wv.most_similar('war')\n",
    "similar"
   ]
  },
  {
   "cell_type": "code",
   "execution_count": null,
   "metadata": {},
   "outputs": [],
   "source": []
  }
 ],
 "metadata": {
  "kernelspec": {
   "display_name": "Python 3",
   "language": "python",
   "name": "python3"
  },
  "language_info": {
   "codemirror_mode": {
    "name": "ipython",
    "version": 3
   },
   "file_extension": ".py",
   "mimetype": "text/x-python",
   "name": "python",
   "nbconvert_exporter": "python",
   "pygments_lexer": "ipython3",
   "version": "3.8.3"
  }
 },
 "nbformat": 4,
 "nbformat_minor": 4
}
